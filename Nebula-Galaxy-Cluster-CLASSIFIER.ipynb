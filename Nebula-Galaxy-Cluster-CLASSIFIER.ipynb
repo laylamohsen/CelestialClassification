{
 "cells": [
  {
   "cell_type": "code",
   "execution_count": 1,
   "id": "f28d4de3-4729-4ae1-8c93-d242f18ff48b",
   "metadata": {},
   "outputs": [
    {
     "name": "stderr",
     "output_type": "stream",
     "text": [
      "2024-03-08 16:33:43.761058: I tensorflow/core/platform/cpu_feature_guard.cc:182] This TensorFlow binary is optimized to use available CPU instructions in performance-critical operations.\n",
      "To enable the following instructions: AVX2 AVX512F AVX512_VNNI FMA, in other operations, rebuild TensorFlow with the appropriate compiler flags.\n"
     ]
    }
   ],
   "source": [
    "import tensorflow as tf\n",
    "import os"
   ]
  },
  {
   "cell_type": "code",
   "execution_count": 2,
   "id": "ab8dd0fd-feb5-404c-8311-7b5e5351404a",
   "metadata": {},
   "outputs": [],
   "source": [
    "import cv2 as cv \n",
    "from matplotlib import pyplot as plt "
   ]
  },
  {
   "cell_type": "code",
   "execution_count": 21,
   "id": "a230b6c1-48a6-43bb-b682-b409f3519920",
   "metadata": {},
   "outputs": [],
   "source": [
    "datapath_nebulae = 'Nebula-Galaxy-Cluster Dataset/Nebulae'\n",
    "datapath_galaxies = 'Nebula-Galaxy-Cluster Dataset/Galaxies'\n",
    "datapath_clusters = 'Nebula-Galaxy-Cluster Dataset/Clusters'"
   ]
  },
  {
   "cell_type": "code",
   "execution_count": 29,
   "id": "8c463068-bcc6-42da-9133-3c337b458297",
   "metadata": {},
   "outputs": [
    {
     "name": "stdout",
     "output_type": "stream",
     "text": [
      "Number of files in the folder: 1022\n",
      "Number of files in the folder: 2673\n",
      "Number of files in the folder: 73\n"
     ]
    }
   ],
   "source": [
    "files_nebulae = os.listdir(datapath_nebulae)\n",
    "files_galaxies = os.listdir(datapath_galaxies)\n",
    "files_clusters = os.listdir(datapath_clusters)\n",
    "# Count the number of files\n",
    "num_files_nebulae = len(files_nebulae)\n",
    "num_files_galaxies = len(files_galaxies)\n",
    "num_files_clusters = len(files_clusters)\n",
    "\n",
    "print(\"Number of files in the folder:\", num_files_nebulae)\n",
    "\n",
    "print(\"Number of files in the folder:\", num_files_galaxies)\n",
    "print(\"Number of files in the folder:\", num_files_clusters)"
   ]
  },
  {
   "cell_type": "code",
   "execution_count": null,
   "id": "830a9018-7d74-4b6a-96a3-6816250a3769",
   "metadata": {},
   "outputs": [],
   "source": []
  },
  {
   "cell_type": "code",
   "execution_count": null,
   "id": "c5f0882e-1bef-4d9d-9363-4079c09c36df",
   "metadata": {},
   "outputs": [],
   "source": []
  }
 ],
 "metadata": {
  "kernelspec": {
   "display_name": "imageclassification",
   "language": "python",
   "name": "imageclassification"
  },
  "language_info": {
   "codemirror_mode": {
    "name": "ipython",
    "version": 3
   },
   "file_extension": ".py",
   "mimetype": "text/x-python",
   "name": "python",
   "nbconvert_exporter": "python",
   "pygments_lexer": "ipython3",
   "version": "3.11.4"
  }
 },
 "nbformat": 4,
 "nbformat_minor": 5
}
