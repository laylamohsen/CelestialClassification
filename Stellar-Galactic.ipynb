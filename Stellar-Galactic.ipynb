{
 "cells": [
  {
   "cell_type": "markdown",
   "id": "269ec876-ee86-4010-9de1-55fb3194f3c6",
   "metadata": {},
   "source": [
    "# 1. Installing libraries, Configuring GPUs"
   ]
  },
  {
   "cell_type": "code",
   "execution_count": 1,
   "id": "44c2badd-bfad-4f0a-b8b9-7ff13f5c76c7",
   "metadata": {
    "tags": []
   },
   "outputs": [
    {
     "name": "stdout",
     "output_type": "stream",
     "text": [
      "Requirement already satisfied: pip in /Users/layla/Documents/ImageClassification/imageclassification/lib/python3.11/site-packages (24.0)\n",
      "Note: you may need to restart the kernel to use updated packages.\n"
     ]
    }
   ],
   "source": [
    "pip install --upgrade pip"
   ]
  },
  {
   "cell_type": "code",
   "execution_count": null,
   "id": "3686ba8a-83a8-44df-967d-9545e0fca1cc",
   "metadata": {
    "tags": []
   },
   "outputs": [],
   "source": [
    "!pip install tensorflow opencv-python matplotlib\n",
    "#tensorflow -> deep learning pipeline \n",
    "#tensorflow-metal is for activating gpus (doesnt work n doesnt matter for intel chips)\n",
    "#opencv -> will be used to remove unclear images, read images etc. \n",
    "#matplotlib -> visualize images/data"
   ]
  },
  {
   "cell_type": "code",
   "execution_count": null,
   "id": "fd16784d-6cbf-4f97-8c41-26a43cb4c730",
   "metadata": {
    "tags": []
   },
   "outputs": [],
   "source": [
    "!pip show tensorflow"
   ]
  },
  {
   "cell_type": "code",
   "execution_count": null,
   "id": "1101eb17-1d1c-4bb3-a05f-c7f827c5bd53",
   "metadata": {
    "tags": []
   },
   "outputs": [],
   "source": [
    "!pip list"
   ]
  },
  {
   "cell_type": "code",
   "execution_count": 5,
   "id": "ede0946e-fecd-4089-8af0-ea65f4d0051a",
   "metadata": {},
   "outputs": [
    {
     "name": "stderr",
     "output_type": "stream",
     "text": [
      "2024-03-06 01:22:26.230207: I tensorflow/core/platform/cpu_feature_guard.cc:182] This TensorFlow binary is optimized to use available CPU instructions in performance-critical operations.\n",
      "To enable the following instructions: AVX2 AVX512F AVX512_VNNI FMA, in other operations, rebuild TensorFlow with the appropriate compiler flags.\n"
     ]
    }
   ],
   "source": [
    "import tensorflow as tf\n",
    "import os\n",
    "#os is used to create paths, list directories and other functions that adjusts appropriately according to the operating system"
   ]
  },
  {
   "cell_type": "code",
   "execution_count": null,
   "id": "7da4bd87-dbc3-4a5a-a2c6-7685446d989b",
   "metadata": {
    "tags": []
   },
   "outputs": [],
   "source": [
    "!pip install tensorflow-macos"
   ]
  },
  {
   "cell_type": "code",
   "execution_count": 7,
   "id": "df22acfe-41e1-490b-bbd5-b6670687432e",
   "metadata": {
    "tags": []
   },
   "outputs": [
    {
     "name": "stdout",
     "output_type": "stream",
     "text": [
      "Requirement already satisfied: tensorflow-metal in /Users/layla/miniforge3/lib/python3.10/site-packages (1.0.0)\n",
      "Requirement already satisfied: wheel~=0.35 in /Users/layla/miniforge3/lib/python3.10/site-packages (from tensorflow-metal) (0.41.2)\n",
      "Requirement already satisfied: six>=1.15.0 in /Users/layla/miniforge3/lib/python3.10/site-packages (from tensorflow-metal) (1.16.0)\n"
     ]
    }
   ],
   "source": [
    "!pip install tensorflow-metal"
   ]
  },
  {
   "cell_type": "code",
   "execution_count": 8,
   "id": "251c2600-67c6-42d0-bb41-c5bc292aefeb",
   "metadata": {
    "tags": []
   },
   "outputs": [
    {
     "name": "stdout",
     "output_type": "stream",
     "text": [
      "\n",
      "Devices:  [PhysicalDevice(name='/physical_device:CPU:0', device_type='CPU')]\n"
     ]
    }
   ],
   "source": [
    "# no GPUs on this macbook\n",
    "devices = tf.config.list_physical_devices()\n",
    "print(\"\\nDevices: \", devices)\n",
    "gpus = tf.config.list_physical_devices('GPU')\n",
    "gpus\n",
    "if gpus:\n",
    "    details = tf.config.experimental.get_device_details(gpus[0])\n",
    "    print(\"GPU details: \", details)"
   ]
  },
  {
   "cell_type": "code",
   "execution_count": 9,
   "id": "4eee6d67-2b2b-4b4f-98dd-cba38520c239",
   "metadata": {
    "tags": []
   },
   "outputs": [],
   "source": [
    "import cv2 as cv \n",
    "from matplotlib import pyplot as plt "
   ]
  },
  {
   "cell_type": "code",
   "execution_count": 10,
   "id": "77c7a05b-e77c-4acd-bb76-b752b78b9d78",
   "metadata": {},
   "outputs": [],
   "source": [
    "datapath = 'Star-Galaxy Dataset'"
   ]
  },
  {
   "cell_type": "code",
   "execution_count": null,
   "id": "335832f4-bbc8-4907-8256-66d4077e968f",
   "metadata": {},
   "outputs": [],
   "source": [
    "os.listdir(os.path.join(datapath, 'star'))\n",
    "os.listdir(os.path.join(datapath, 'galaxy'))"
   ]
  },
  {
   "cell_type": "code",
   "execution_count": 12,
   "id": "622d852f-80e0-43bd-96e8-2f1cff175bb2",
   "metadata": {
    "scrolled": true
   },
   "outputs": [
    {
     "data": {
      "text/plain": [
       "(64, 64, 3)"
      ]
     },
     "execution_count": 12,
     "metadata": {},
     "output_type": "execute_result"
    }
   ],
   "source": [
    "#cv.imread('Star-Galaxy Dataset/star/grb0422a_01_104_1014_6.jpg')\n",
    "img = cv.imread(os.path.join(datapath, 'star', 'grb0422a_01_104_1014_6.jpg'))\n",
    "img.shape"
   ]
  },
  {
   "cell_type": "code",
   "execution_count": 13,
   "id": "42ab1b10-a486-4761-8b02-64ca64691dd5",
   "metadata": {},
   "outputs": [
    {
     "data": {
      "image/png": "[encoded data removed]",
      "text/plain": [
       "<Figure size 640x480 with 1 Axes>"
      ]
     },
     "metadata": {},
     "output_type": "display_data"
    }
   ],
   "source": [
    "#opencv processes in bgr not rgb so it messes with colors of original pic\n",
    "plt.imshow(cv.cvtColor(img, cv.COLOR_BGR2RGB)) \n",
    "plt.show()"
   ]
  },
  {
   "cell_type": "code",
   "execution_count": null,
   "id": "08fc773c-c353-42a7-b96c-df1372ff09e1",
   "metadata": {},
   "outputs": [],
   "source": [
    "data = tf.keras.utils.image_dataset_from_directory??"
   ]
  },
  {
   "cell_type": "code",
   "execution_count": 15,
   "id": "f602526f-a107-4fe1-b4a3-8f28eb7cba98",
   "metadata": {},
   "outputs": [
    {
     "name": "stdout",
     "output_type": "stream",
     "text": [
      "Found 3993 files belonging to 2 classes.\n"
     ]
    }
   ],
   "source": [
    "#does the labelled dataset for you & a bunch of preprocessing including resizing\n",
    "#******** may want to try different resizing metrics, batch sizes etc. *********\n",
    "data = tf.keras.utils.image_dataset_from_directory(datapath)"
   ]
  },
  {
   "cell_type": "code",
   "execution_count": 16,
   "id": "2b79fe33-393c-48a2-b201-b1366725fec5",
   "metadata": {},
   "outputs": [],
   "source": [
    "import numpy as np"
   ]
  },
  {
   "cell_type": "code",
   "execution_count": 17,
   "id": "0404e4af-244d-405d-b77b-1d1c6c9ffba5",
   "metadata": {},
   "outputs": [
    {
     "data": {
      "text/plain": [
       "<tensorflow.python.data.ops.dataset_ops.NumpyIterator at 0x13b9e3210>"
      ]
     },
     "execution_count": 17,
     "metadata": {},
     "output_type": "execute_result"
    }
   ],
   "source": [
    "# this allows us to access the generator from the data pipeline, data[0] etc.\n",
    "# allows us to access/loop through batches\n",
    "data_array = data.as_numpy_iterator()\n",
    "data_array"
   ]
  },
  {
   "cell_type": "code",
   "execution_count": 18,
   "id": "a9506e90-f5b1-4e9e-ba81-521e8f10c62d",
   "metadata": {},
   "outputs": [
    {
     "data": {
      "text/plain": [
       "(32, 256, 256, 3)"
      ]
     },
     "execution_count": 18,
     "metadata": {},
     "output_type": "execute_result"
    }
   ],
   "source": [
    "#this grabs a batch, which is set to 32 images by default as per the keras.utils metrics\n",
    "batch = data_array.next()\n",
    "batch[0].shape"
   ]
  },
  {
   "cell_type": "code",
   "execution_count": 19,
   "id": "3bf68e96-98c5-44ba-b6fd-ab5a221d0bcf",
   "metadata": {},
   "outputs": [
    {
     "data": {
      "text/plain": [
       "array([1, 1, 0, 1, 0, 0, 1, 1, 1, 0, 1, 1, 1, 1, 1, 1, 0, 1, 0, 0, 1, 1,\n",
       "       1, 1, 0, 1, 1, 0, 1, 1, 1, 1], dtype=int32)"
      ]
     },
     "execution_count": 19,
     "metadata": {},
     "output_type": "execute_result"
    }
   ],
   "source": [
    "#its of length 2 because it splits data to images and labels\n",
    "# so batch[0] has images, batch[1] has labels\n",
    "len(batch)\n",
    "batch[0]\n",
    "batch[1]"
   ]
  },
  {
   "cell_type": "code",
   "execution_count": 20,
   "id": "ff518f62-b781-412b-b290-d7a7ebc2641b",
   "metadata": {},
   "outputs": [
    {
     "data": {
      "text/plain": [
       "255.0"
      ]
     },
     "execution_count": 20,
     "metadata": {},
     "output_type": "execute_result"
    }
   ],
   "source": [
    "batch[0].max()"
   ]
  },
  {
   "cell_type": "code",
   "execution_count": 21,
   "id": "8e2225af-4b6d-49eb-b774-b7b24a9e57d6",
   "metadata": {},
   "outputs": [
    {
     "name": "stdout",
     "output_type": "stream",
     "text": [
      "galaxy: 0\n",
      "star: 1\n"
     ]
    }
   ],
   "source": [
    "#shows which class label is 0 or 1\n",
    "for i, class_name in enumerate(data.class_names):\n",
    "    print(f\"{class_name}: {i}\")"
   ]
  },
  {
   "cell_type": "markdown",
   "id": "46577209-1a0d-42cf-a11d-4ffc4e81f1da",
   "metadata": {},
   "source": [
    "# 2. Data Preprocessing"
   ]
  },
  {
   "cell_type": "code",
   "execution_count": null,
   "id": "e8e9f6ed-1aed-488f-b205-50a8eff041e6",
   "metadata": {},
   "outputs": [],
   "source": [
    "data.map??"
   ]
  },
  {
   "cell_type": "code",
   "execution_count": 23,
   "id": "cf6cdadb-6c9b-4c7e-b9ae-52efc4bc792e",
   "metadata": {},
   "outputs": [],
   "source": [
    "# we will use the function .map to rescale the images from 0 to 255 to 0 to 1 as it allows better results\n",
    "# map functiond allows transformations on the data in the data pipeline so that it is applied everytime a batch is loaded\n",
    "# speeds up how quickly we can access our data & does it throughout the pipeline\n",
    "data = data.map(lambda x, y: (x/255, y))"
   ]
  },
  {
   "cell_type": "code",
   "execution_count": 24,
   "id": "f3f36b7a-32ab-4f1f-974f-95c803759240",
   "metadata": {},
   "outputs": [
    {
     "data": {
      "text/plain": [
       "1.0"
      ]
     },
     "execution_count": 24,
     "metadata": {},
     "output_type": "execute_result"
    }
   ],
   "source": [
    "data_array = data.as_numpy_iterator()\n",
    "batch = data_array.next()\n",
    "batch[0].max()"
   ]
  },
  {
   "cell_type": "markdown",
   "id": "77f4068c-8a2d-4fb2-9750-809f963a917d",
   "metadata": {},
   "source": [
    "# 3. Splitting Data into Train, Test & Validation"
   ]
  },
  {
   "cell_type": "code",
   "execution_count": 25,
   "id": "a3688456-d279-4c36-bf49-b15cc8a56a21",
   "metadata": {},
   "outputs": [
    {
     "data": {
      "text/plain": [
       "125"
      ]
     },
     "execution_count": 25,
     "metadata": {},
     "output_type": "execute_result"
    }
   ],
   "source": [
    "len(data)\n",
    "# so we have 125 batches, each with 32 images\n",
    "# we will split it accordingly --> 70% train, 20% validation, 10% test"
   ]
  },
  {
   "cell_type": "code",
   "execution_count": 26,
   "id": "5b4f3774-2b0f-4910-8a49-4064a81952ee",
   "metadata": {},
   "outputs": [
    {
     "data": {
      "text/plain": [
       "87"
      ]
     },
     "execution_count": 26,
     "metadata": {},
     "output_type": "execute_result"
    }
   ],
   "source": [
    "train_size = int(len(data)*0.7)\n",
    "train_size"
   ]
  },
  {
   "cell_type": "code",
   "execution_count": 27,
   "id": "55463bf0-9573-4688-a773-7018a838c443",
   "metadata": {},
   "outputs": [
    {
     "data": {
      "text/plain": [
       "26"
      ]
     },
     "execution_count": 27,
     "metadata": {},
     "output_type": "execute_result"
    }
   ],
   "source": [
    "#had to add 1 so that train+val+test add up to the total number of batches\n",
    "#the reason it doesnt do that naturally is because we're converting to int\n",
    "val_size = int(len(data)*0.2)+1\n",
    "val_size"
   ]
  },
  {
   "cell_type": "code",
   "execution_count": 28,
   "id": "5e33e64d-3494-41e4-b6a5-6756d6f5fdc9",
   "metadata": {},
   "outputs": [
    {
     "data": {
      "text/plain": [
       "12"
      ]
     },
     "execution_count": 28,
     "metadata": {},
     "output_type": "execute_result"
    }
   ],
   "source": [
    "test_size = int(len(data)*0.1)\n",
    "test_size"
   ]
  },
  {
   "cell_type": "code",
   "execution_count": 29,
   "id": "3746e45a-dfc3-4731-bee3-c9cb629c698a",
   "metadata": {},
   "outputs": [
    {
     "data": {
      "text/plain": [
       "125"
      ]
     },
     "execution_count": 29,
     "metadata": {},
     "output_type": "execute_result"
    }
   ],
   "source": [
    "train_size + val_size + test_size"
   ]
  },
  {
   "cell_type": "code",
   "execution_count": 30,
   "id": "bc1c392c-0794-4017-a31a-54131d283b82",
   "metadata": {},
   "outputs": [],
   "source": [
    "train = data.take(train_size)\n",
    "val = data.skip(train_size).take(val_size)\n",
    "test = data.skip(train_size + test_size).take(test_size)"
   ]
  },
  {
   "cell_type": "code",
   "execution_count": 31,
   "id": "9ba9fc6a-1911-4084-9488-a834d2ff6f83",
   "metadata": {},
   "outputs": [
    {
     "data": {
      "text/plain": [
       "87"
      ]
     },
     "execution_count": 31,
     "metadata": {},
     "output_type": "execute_result"
    }
   ],
   "source": [
    "len(train)"
   ]
  },
  {
   "cell_type": "code",
   "execution_count": 32,
   "id": "42b5a16e-181c-48ce-a8fc-3c3fe92383ec",
   "metadata": {},
   "outputs": [
    {
     "data": {
      "text/plain": [
       "26"
      ]
     },
     "execution_count": 32,
     "metadata": {},
     "output_type": "execute_result"
    }
   ],
   "source": [
    "len(val)"
   ]
  },
  {
   "cell_type": "code",
   "execution_count": 33,
   "id": "dc351b6f-b361-4dbe-a5de-17a4a3ebb405",
   "metadata": {},
   "outputs": [
    {
     "data": {
      "text/plain": [
       "12"
      ]
     },
     "execution_count": 33,
     "metadata": {},
     "output_type": "execute_result"
    }
   ],
   "source": [
    "len(test)"
   ]
  },
  {
   "cell_type": "code",
   "execution_count": 34,
   "id": "24d1a5f7-cb21-4ed5-9f8d-6fae2c7491ba",
   "metadata": {},
   "outputs": [
    {
     "data": {
      "text/plain": [
       "32"
      ]
     },
     "execution_count": 34,
     "metadata": {},
     "output_type": "execute_result"
    }
   ],
   "source": [
    "y = batch[1]\n",
    "len(y)"
   ]
  },
  {
   "cell_type": "code",
   "execution_count": 35,
   "id": "b6759741-3e26-4dd3-9a79-83d3bc595b02",
   "metadata": {},
   "outputs": [
    {
     "name": "stdout",
     "output_type": "stream",
     "text": [
      "(24, 256, 256, 3)\n",
      "(8, 256, 256, 3)\n",
      "(24,)\n",
      "(8,)\n"
     ]
    }
   ],
   "source": [
    "#or we can use scikit-learn\n",
    "from sklearn.model_selection import train_test_split\n",
    "y = batch[1]\n",
    "X_train, X_test, y_train, y_test = train_test_split(batch[0], y)\n",
    "print(X_train.shape)\n",
    "print(X_test.shape)\n",
    "print(y_train.shape)\n",
    "print(y_test.shape)"
   ]
  },
  {
   "cell_type": "markdown",
   "id": "00cec258-391b-4f6f-b262-067fd9743387",
   "metadata": {},
   "source": [
    "# 4. Building CNN Model"
   ]
  },
  {
   "cell_type": "code",
   "execution_count": 36,
   "id": "6f54cca0-1978-4f48-a06b-340dc491bfc7",
   "metadata": {},
   "outputs": [],
   "source": [
    "from tensorflow.keras.models import Sequential\n",
    "from tensorflow.keras.layers import  Flatten, Dense, Conv2D, MaxPooling2D"
   ]
  },
  {
   "cell_type": "code",
   "execution_count": 41,
   "id": "e6cbdf65-7dec-4e34-b98d-8de0aef3da26",
   "metadata": {},
   "outputs": [],
   "source": [
    "#input layer size = images reshaped by keras.utils\n",
    "model = Sequential([Conv2D(16, (3,3), 1, activation='relu', input_shape=(256,256,3)),\n",
    "                    MaxPooling2D(), \n",
    "                    Conv2D(32, (3,3), 1, activation='relu'),\n",
    "                    MaxPooling2D(), \n",
    "                    Flatten(),\n",
    "                    Dense(256, activation='relu'),\n",
    "                    Dense(1, activation='sigmoid')\n",
    "                    ])"
   ]
  },
  {
   "cell_type": "code",
   "execution_count": 42,
   "id": "549dd6b4-2980-44f9-bc8c-e3c067edbecd",
   "metadata": {},
   "outputs": [],
   "source": [
    "model.compile('adam', loss = tf.losses.BinaryCrossentropy(), metrics =['accuracy'])"
   ]
  },
  {
   "cell_type": "code",
   "execution_count": 43,
   "id": "03db7ac5-8a05-4aeb-b5c4-874b79f90f90",
   "metadata": {},
   "outputs": [
    {
     "name": "stdout",
     "output_type": "stream",
     "text": [
      "Model: \"sequential_4\"\n",
      "_________________________________________________________________\n",
      " Layer (type)                Output Shape              Param #   \n",
      "=================================================================\n",
      " conv2d_8 (Conv2D)           (None, 254, 254, 16)      448       \n",
      "                                                                 \n",
      " max_pooling2d_8 (MaxPoolin  (None, 127, 127, 16)      0         \n",
      " g2D)                                                            \n",
      "                                                                 \n",
      " conv2d_9 (Conv2D)           (None, 125, 125, 32)      4640      \n",
      "                                                                 \n",
      " max_pooling2d_9 (MaxPoolin  (None, 62, 62, 32)        0         \n",
      " g2D)                                                            \n",
      "                                                                 \n",
      " flatten_4 (Flatten)         (None, 123008)            0         \n",
      "                                                                 \n",
      " dense_8 (Dense)             (None, 256)               31490304  \n",
      "                                                                 \n",
      " dense_9 (Dense)             (None, 1)                 257       \n",
      "                                                                 \n",
      "=================================================================\n",
      "Total params: 31495649 (120.15 MB)\n",
      "Trainable params: 31495649 (120.15 MB)\n",
      "Non-trainable params: 0 (0.00 Byte)\n",
      "_________________________________________________________________\n"
     ]
    }
   ],
   "source": [
    "model.summary()"
   ]
  },
  {
   "cell_type": "markdown",
   "id": "ca7e147b-6d20-451c-89c6-62a94e3ac98d",
   "metadata": {},
   "source": [
    "# 5. Train"
   ]
  },
  {
   "cell_type": "code",
   "execution_count": 44,
   "id": "c04254ab-dffb-40a9-893f-f455ea6701dd",
   "metadata": {},
   "outputs": [],
   "source": [
    "logdir='logs'\n",
    "tensorboard_callback = tf.keras.callbacks.TensorBoard(log_dir=logdir)\n"
   ]
  },
  {
   "cell_type": "code",
   "execution_count": 45,
   "id": "8e0eac61-0864-4ad7-a9b8-3d41d994ce01",
   "metadata": {},
   "outputs": [
    {
     "name": "stdout",
     "output_type": "stream",
     "text": [
      "Epoch 1/20\n",
      "87/87 [==============================] - 163s 2s/step - loss: 0.7526 - accuracy: 0.7425 - val_loss: 0.5523 - val_accuracy: 0.7680\n",
      "Epoch 2/20\n",
      "87/87 [==============================] - 152s 2s/step - loss: 0.5523 - accuracy: 0.7601 - val_loss: 0.5289 - val_accuracy: 0.7620\n",
      "Epoch 3/20\n",
      "87/87 [==============================] - 147s 2s/step - loss: 0.5333 - accuracy: 0.7557 - val_loss: 0.5155 - val_accuracy: 0.7692\n",
      "Epoch 4/20\n",
      "87/87 [==============================] - 118s 1s/step - loss: 0.5116 - accuracy: 0.7615 - val_loss: 0.4996 - val_accuracy: 0.7692\n",
      "Epoch 5/20\n",
      "87/87 [==============================] - 117s 1s/step - loss: 0.4452 - accuracy: 0.7827 - val_loss: 0.4731 - val_accuracy: 0.7800\n",
      "Epoch 6/20\n",
      "87/87 [==============================] - 112s 1s/step - loss: 0.3312 - accuracy: 0.8563 - val_loss: 0.4558 - val_accuracy: 0.7957\n",
      "Epoch 7/20\n",
      "87/87 [==============================] - 113s 1s/step - loss: 0.1978 - accuracy: 0.9239 - val_loss: 0.4733 - val_accuracy: 0.7776\n",
      "Epoch 8/20\n",
      "87/87 [==============================] - 122s 1s/step - loss: 0.1099 - accuracy: 0.9662 - val_loss: 0.5403 - val_accuracy: 0.7993\n",
      "Epoch 9/20\n",
      "87/87 [==============================] - 119s 1s/step - loss: 0.0525 - accuracy: 0.9874 - val_loss: 0.6093 - val_accuracy: 0.7861\n",
      "Epoch 10/20\n",
      "87/87 [==============================] - 104s 1s/step - loss: 0.0287 - accuracy: 0.9960 - val_loss: 0.6734 - val_accuracy: 0.7897\n",
      "Epoch 11/20\n",
      "87/87 [==============================] - 102s 1s/step - loss: 0.0163 - accuracy: 0.9978 - val_loss: 0.6822 - val_accuracy: 0.7873\n",
      "Epoch 12/20\n",
      "87/87 [==============================] - 101s 1s/step - loss: 0.0182 - accuracy: 0.9971 - val_loss: 0.8019 - val_accuracy: 0.7392\n",
      "Epoch 13/20\n",
      "87/87 [==============================] - 102s 1s/step - loss: 0.0101 - accuracy: 0.9989 - val_loss: 0.7579 - val_accuracy: 0.8041\n",
      "Epoch 14/20\n",
      "87/87 [==============================] - 101s 1s/step - loss: 0.0051 - accuracy: 0.9993 - val_loss: 0.8520 - val_accuracy: 0.8149\n",
      "Epoch 15/20\n",
      "87/87 [==============================] - 106s 1s/step - loss: 0.0049 - accuracy: 0.9993 - val_loss: 1.3955 - val_accuracy: 0.8413\n",
      "Epoch 16/20\n",
      "87/87 [==============================] - 99s 1s/step - loss: 0.0037 - accuracy: 0.9996 - val_loss: 0.9660 - val_accuracy: 0.7909\n",
      "Epoch 17/20\n",
      "87/87 [==============================] - 99s 1s/step - loss: 0.0033 - accuracy: 0.9996 - val_loss: 0.9582 - val_accuracy: 0.8113\n",
      "Epoch 18/20\n",
      "87/87 [==============================] - 102s 1s/step - loss: 0.0015 - accuracy: 1.0000 - val_loss: 1.0015 - val_accuracy: 0.8305\n",
      "Epoch 19/20\n",
      "87/87 [==============================] - 100s 1s/step - loss: 0.0022 - accuracy: 0.9996 - val_loss: 1.3978 - val_accuracy: 0.8329\n",
      "Epoch 20/20\n",
      "87/87 [==============================] - 100s 1s/step - loss: 0.0830 - accuracy: 0.9716 - val_loss: 0.6773 - val_accuracy: 0.7776\n"
     ]
    }
   ],
   "source": [
    "hist = model.fit(train, epochs=20, validation_data=val, callbacks=[tensorboard_callback])\n"
   ]
  },
  {
   "cell_type": "markdown",
   "id": "bfbf2bac-f638-4957-bd25-63b5a85a898b",
   "metadata": {},
   "source": [
    "# 6. Plots"
   ]
  },
  {
   "cell_type": "markdown",
   "id": "6bd89717-4044-4c4c-acf1-704e62b8933b",
   "metadata": {},
   "source": [
    "### 1. Loss"
   ]
  },
  {
   "cell_type": "code",
   "execution_count": 47,
   "id": "2cc36372-7623-4199-aad5-b290a45cee88",
   "metadata": {
    "scrolled": true
   },
   "outputs": [
    {
     "data": {
      "image/png": "[encoded data removed]",
      "text/plain": [
       "<Figure size 640x480 with 1 Axes>"
      ]
     },
     "metadata": {},
     "output_type": "display_data"
    }
   ],
   "source": [
    "fig = plt.figure()\n",
    "plt.plot(hist.history['loss'], color='teal', label='loss')\n",
    "plt.plot(hist.history['val_loss'], color='orange', label='val_loss')\n",
    "fig.suptitle('Loss', fontsize=20)\n",
    "plt.legend(loc=\"upper left\")\n",
    "plt.show()"
   ]
  },
  {
   "cell_type": "markdown",
   "id": "c12d4589-65f9-4fb6-b51a-978a16a71d7d",
   "metadata": {},
   "source": [
    "### 2. Accuracy"
   ]
  },
  {
   "cell_type": "code",
   "execution_count": 48,
   "id": "e4ae0483-b4b1-4d02-b8a8-41ad215f876d",
   "metadata": {},
   "outputs": [
    {
     "data": {
      "image/png": "[encoded data removed]",
      "text/plain": [
       "<Figure size 640x480 with 1 Axes>"
      ]
     },
     "metadata": {},
     "output_type": "display_data"
    }
   ],
   "source": [
    "fig = plt.figure()\n",
    "plt.plot(hist.history['accuracy'], color='teal', label='accuracy')\n",
    "plt.plot(hist.history['val_accuracy'], color='orange', label='val_accuracy')\n",
    "fig.suptitle('Accuracy', fontsize=20)\n",
    "plt.legend(loc=\"upper left\")\n",
    "plt.show()"
   ]
  },
  {
   "cell_type": "code",
   "execution_count": 49,
   "id": "d402387b-2be6-47cb-a354-8884dc70506d",
   "metadata": {},
   "outputs": [],
   "source": [
    "from tensorflow.keras.metrics import Precision, Recall, BinaryAccuracy\n"
   ]
  },
  {
   "cell_type": "code",
   "execution_count": 50,
   "id": "40b55e7b-b3cd-4c0e-977c-7174ee013759",
   "metadata": {},
   "outputs": [
    {
     "name": "stdout",
     "output_type": "stream",
     "text": [
      "1/1 [==============================] - 1s 506ms/step\n",
      "1/1 [==============================] - 0s 301ms/step\n",
      "1/1 [==============================] - 0s 305ms/step\n",
      "1/1 [==============================] - 0s 432ms/step\n",
      "1/1 [==============================] - 0s 297ms/step\n",
      "1/1 [==============================] - 0s 290ms/step\n",
      "1/1 [==============================] - 0s 287ms/step\n",
      "1/1 [==============================] - 0s 288ms/step\n",
      "1/1 [==============================] - 0s 320ms/step\n",
      "1/1 [==============================] - 0s 290ms/step\n",
      "1/1 [==============================] - 0s 284ms/step\n",
      "1/1 [==============================] - 0s 285ms/step\n",
      "tf.Tensor(0.80906147, shape=(), dtype=float32) tf.Tensor(0.8680556, shape=(), dtype=float32) tf.Tensor(0.7473958, shape=(), dtype=float32)\n"
     ]
    }
   ],
   "source": [
    "pre = Precision()\n",
    "re = Recall()\n",
    "acc = BinaryAccuracy()\n",
    "for batch in test.as_numpy_iterator(): \n",
    "    X, y = batch\n",
    "    yhat = model.predict(X)\n",
    "    pre.update_state(y, yhat)\n",
    "    re.update_state(y, yhat)\n",
    "    acc.update_state(y, yhat)\n",
    "\n",
    "print(pre.result(), re.result(), acc.result())\n"
   ]
  },
  {
   "cell_type": "code",
   "execution_count": null,
   "id": "f04cc95c-099a-41e9-805a-4590b4740873",
   "metadata": {},
   "outputs": [],
   "source": []
  }
 ],
 "metadata": {
  "kernelspec": {
   "display_name": "imageclassification",
   "language": "python",
   "name": "imageclassification"
  },
  "language_info": {
   "codemirror_mode": {
    "name": "ipython",
    "version": 3
   },
   "file_extension": ".py",
   "mimetype": "text/x-python",
   "name": "python",
   "nbconvert_exporter": "python",
   "pygments_lexer": "ipython3",
   "version": "3.11.4"
  }
 },
 "nbformat": 4,
 "nbformat_minor": 5
}
