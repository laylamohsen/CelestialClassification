{
 "cells": [
  {
   "cell_type": "code",
   "execution_count": 10,
   "id": "44c2badd-bfad-4f0a-b8b9-7ff13f5c76c7",
   "metadata": {
    "tags": []
   },
   "outputs": [
    {
     "name": "stdout",
     "output_type": "stream",
     "text": [
      "Requirement already satisfied: pip in /Users/layla/Documents/ImageClassification/imageclassification/lib/python3.11/site-packages (24.0)\n",
      "Note: you may need to restart the kernel to use updated packages.\n"
     ]
    }
   ],
   "source": [
    "pip install --upgrade pip"
   ]
  },
  {
   "cell_type": "code",
   "execution_count": 3,
   "id": "3686ba8a-83a8-44df-967d-9545e0fca1cc",
   "metadata": {
    "tags": []
   },
   "outputs": [
    {
     "name": "stdout",
     "output_type": "stream",
     "text": [
      "Requirement already satisfied: tensorflow in /Users/layla/ImageClassification/imageclassification/lib/python3.11/site-packages (2.15.0)\n",
      "Requirement already satisfied: opencv-python in /Users/layla/ImageClassification/imageclassification/lib/python3.11/site-packages (4.9.0.80)\n",
      "Requirement already satisfied: matplotlib in /Users/layla/ImageClassification/imageclassification/lib/python3.11/site-packages (3.8.2)\n",
      "Requirement already satisfied: absl-py>=1.0.0 in /Users/layla/ImageClassification/imageclassification/lib/python3.11/site-packages (from tensorflow) (2.1.0)\n",
      "Requirement already satisfied: astunparse>=1.6.0 in /Users/layla/ImageClassification/imageclassification/lib/python3.11/site-packages (from tensorflow) (1.6.3)\n",
      "Requirement already satisfied: flatbuffers>=23.5.26 in /Users/layla/ImageClassification/imageclassification/lib/python3.11/site-packages (from tensorflow) (23.5.26)\n",
      "Requirement already satisfied: gast!=0.5.0,!=0.5.1,!=0.5.2,>=0.2.1 in /Users/layla/ImageClassification/imageclassification/lib/python3.11/site-packages (from tensorflow) (0.4.0)\n",
      "Requirement already satisfied: google-pasta>=0.1.1 in /Users/layla/ImageClassification/imageclassification/lib/python3.11/site-packages (from tensorflow) (0.2.0)\n",
      "Requirement already satisfied: h5py>=2.9.0 in /Users/layla/ImageClassification/imageclassification/lib/python3.11/site-packages (from tensorflow) (3.10.0)\n",
      "Requirement already satisfied: libclang>=13.0.0 in /Users/layla/ImageClassification/imageclassification/lib/python3.11/site-packages (from tensorflow) (16.0.6)\n",
      "Requirement already satisfied: ml-dtypes~=0.2.0 in /Users/layla/ImageClassification/imageclassification/lib/python3.11/site-packages (from tensorflow) (0.2.0)\n",
      "Requirement already satisfied: numpy<2.0.0,>=1.23.5 in /Users/layla/ImageClassification/imageclassification/lib/python3.11/site-packages (from tensorflow) (1.23.5)\n",
      "Requirement already satisfied: opt-einsum>=2.3.2 in /Users/layla/ImageClassification/imageclassification/lib/python3.11/site-packages (from tensorflow) (3.3.0)\n",
      "Requirement already satisfied: packaging in /Users/layla/ImageClassification/imageclassification/lib/python3.11/site-packages (from tensorflow) (23.2)\n",
      "Requirement already satisfied: protobuf!=4.21.0,!=4.21.1,!=4.21.2,!=4.21.3,!=4.21.4,!=4.21.5,<5.0.0dev,>=3.20.3 in /Users/layla/ImageClassification/imageclassification/lib/python3.11/site-packages (from tensorflow) (4.25.2)\n",
      "Requirement already satisfied: setuptools in /Users/layla/ImageClassification/imageclassification/lib/python3.11/site-packages (from tensorflow) (65.5.0)\n",
      "Requirement already satisfied: six>=1.12.0 in /Users/layla/ImageClassification/imageclassification/lib/python3.11/site-packages (from tensorflow) (1.16.0)\n",
      "Requirement already satisfied: termcolor>=1.1.0 in /Users/layla/ImageClassification/imageclassification/lib/python3.11/site-packages (from tensorflow) (2.4.0)\n",
      "Requirement already satisfied: typing-extensions>=3.6.6 in /Users/layla/ImageClassification/imageclassification/lib/python3.11/site-packages (from tensorflow) (4.9.0)\n",
      "Requirement already satisfied: wrapt<1.15,>=1.11.0 in /Users/layla/ImageClassification/imageclassification/lib/python3.11/site-packages (from tensorflow) (1.14.1)\n",
      "Requirement already satisfied: tensorflow-io-gcs-filesystem>=0.23.1 in /Users/layla/ImageClassification/imageclassification/lib/python3.11/site-packages (from tensorflow) (0.36.0)\n",
      "Requirement already satisfied: grpcio<2.0,>=1.24.3 in /Users/layla/ImageClassification/imageclassification/lib/python3.11/site-packages (from tensorflow) (1.60.1)\n",
      "Requirement already satisfied: tensorboard<2.16,>=2.15 in /Users/layla/ImageClassification/imageclassification/lib/python3.11/site-packages (from tensorflow) (2.15.2)\n",
      "Requirement already satisfied: tensorflow-estimator<2.16,>=2.15.0 in /Users/layla/ImageClassification/imageclassification/lib/python3.11/site-packages (from tensorflow) (2.15.0)\n",
      "Requirement already satisfied: keras<2.16,>=2.15.0 in /Users/layla/ImageClassification/imageclassification/lib/python3.11/site-packages (from tensorflow) (2.15.0)\n",
      "Requirement already satisfied: contourpy>=1.0.1 in /Users/layla/ImageClassification/imageclassification/lib/python3.11/site-packages (from matplotlib) (1.2.0)\n",
      "Requirement already satisfied: cycler>=0.10 in /Users/layla/ImageClassification/imageclassification/lib/python3.11/site-packages (from matplotlib) (0.12.1)\n",
      "Requirement already satisfied: fonttools>=4.22.0 in /Users/layla/ImageClassification/imageclassification/lib/python3.11/site-packages (from matplotlib) (4.48.1)\n",
      "Requirement already satisfied: kiwisolver>=1.3.1 in /Users/layla/ImageClassification/imageclassification/lib/python3.11/site-packages (from matplotlib) (1.4.5)\n",
      "Requirement already satisfied: pillow>=8 in /Users/layla/ImageClassification/imageclassification/lib/python3.11/site-packages (from matplotlib) (10.2.0)\n",
      "Requirement already satisfied: pyparsing>=2.3.1 in /Users/layla/ImageClassification/imageclassification/lib/python3.11/site-packages (from matplotlib) (3.1.1)\n",
      "Requirement already satisfied: python-dateutil>=2.7 in /Users/layla/ImageClassification/imageclassification/lib/python3.11/site-packages (from matplotlib) (2.8.2)\n",
      "Requirement already satisfied: wheel<1.0,>=0.23.0 in /Users/layla/ImageClassification/imageclassification/lib/python3.11/site-packages (from astunparse>=1.6.0->tensorflow) (0.42.0)\n",
      "Requirement already satisfied: google-auth<3,>=1.6.3 in /Users/layla/ImageClassification/imageclassification/lib/python3.11/site-packages (from tensorboard<2.16,>=2.15->tensorflow) (2.27.0)\n",
      "Requirement already satisfied: google-auth-oauthlib<2,>=0.5 in /Users/layla/ImageClassification/imageclassification/lib/python3.11/site-packages (from tensorboard<2.16,>=2.15->tensorflow) (1.0.0)\n",
      "Requirement already satisfied: markdown>=2.6.8 in /Users/layla/ImageClassification/imageclassification/lib/python3.11/site-packages (from tensorboard<2.16,>=2.15->tensorflow) (3.5.2)\n",
      "Requirement already satisfied: requests<3,>=2.21.0 in /Users/layla/ImageClassification/imageclassification/lib/python3.11/site-packages (from tensorboard<2.16,>=2.15->tensorflow) (2.31.0)\n",
      "Requirement already satisfied: tensorboard-data-server<0.8.0,>=0.7.0 in /Users/layla/ImageClassification/imageclassification/lib/python3.11/site-packages (from tensorboard<2.16,>=2.15->tensorflow) (0.7.2)\n",
      "Requirement already satisfied: werkzeug>=1.0.1 in /Users/layla/ImageClassification/imageclassification/lib/python3.11/site-packages (from tensorboard<2.16,>=2.15->tensorflow) (3.0.1)\n",
      "Requirement already satisfied: cachetools<6.0,>=2.0.0 in /Users/layla/ImageClassification/imageclassification/lib/python3.11/site-packages (from google-auth<3,>=1.6.3->tensorboard<2.16,>=2.15->tensorflow) (5.3.2)\n",
      "Requirement already satisfied: pyasn1-modules>=0.2.1 in /Users/layla/ImageClassification/imageclassification/lib/python3.11/site-packages (from google-auth<3,>=1.6.3->tensorboard<2.16,>=2.15->tensorflow) (0.3.0)\n",
      "Requirement already satisfied: rsa<5,>=3.1.4 in /Users/layla/ImageClassification/imageclassification/lib/python3.11/site-packages (from google-auth<3,>=1.6.3->tensorboard<2.16,>=2.15->tensorflow) (4.9)\n",
      "Requirement already satisfied: requests-oauthlib>=0.7.0 in /Users/layla/ImageClassification/imageclassification/lib/python3.11/site-packages (from google-auth-oauthlib<2,>=0.5->tensorboard<2.16,>=2.15->tensorflow) (1.3.1)\n",
      "Requirement already satisfied: charset-normalizer<4,>=2 in /Users/layla/ImageClassification/imageclassification/lib/python3.11/site-packages (from requests<3,>=2.21.0->tensorboard<2.16,>=2.15->tensorflow) (3.3.2)\n",
      "Requirement already satisfied: idna<4,>=2.5 in /Users/layla/ImageClassification/imageclassification/lib/python3.11/site-packages (from requests<3,>=2.21.0->tensorboard<2.16,>=2.15->tensorflow) (3.6)\n",
      "Requirement already satisfied: urllib3<3,>=1.21.1 in /Users/layla/ImageClassification/imageclassification/lib/python3.11/site-packages (from requests<3,>=2.21.0->tensorboard<2.16,>=2.15->tensorflow) (2.2.0)\n",
      "Requirement already satisfied: certifi>=2017.4.17 in /Users/layla/ImageClassification/imageclassification/lib/python3.11/site-packages (from requests<3,>=2.21.0->tensorboard<2.16,>=2.15->tensorflow) (2024.2.2)\n",
      "Requirement already satisfied: MarkupSafe>=2.1.1 in /Users/layla/ImageClassification/imageclassification/lib/python3.11/site-packages (from werkzeug>=1.0.1->tensorboard<2.16,>=2.15->tensorflow) (2.1.5)\n",
      "Requirement already satisfied: pyasn1<0.6.0,>=0.4.6 in /Users/layla/ImageClassification/imageclassification/lib/python3.11/site-packages (from pyasn1-modules>=0.2.1->google-auth<3,>=1.6.3->tensorboard<2.16,>=2.15->tensorflow) (0.5.1)\n",
      "Requirement already satisfied: oauthlib>=3.0.0 in /Users/layla/ImageClassification/imageclassification/lib/python3.11/site-packages (from requests-oauthlib>=0.7.0->google-auth-oauthlib<2,>=0.5->tensorboard<2.16,>=2.15->tensorflow) (3.2.2)\n",
      "\n",
      "\u001b[1m[\u001b[0m\u001b[34;49mnotice\u001b[0m\u001b[1;39;49m]\u001b[0m\u001b[39;49m A new release of pip is available: \u001b[0m\u001b[31;49m23.1.2\u001b[0m\u001b[39;49m -> \u001b[0m\u001b[32;49m24.0\u001b[0m\n",
      "\u001b[1m[\u001b[0m\u001b[34;49mnotice\u001b[0m\u001b[1;39;49m]\u001b[0m\u001b[39;49m To update, run: \u001b[0m\u001b[32;49mpip install --upgrade pip\u001b[0m\n"
     ]
    }
   ],
   "source": [
    "!pip install tensorflow opencv-python matplotlib\n",
    "#tensorflow -> deep learning pipeline \n",
    "#tensorflow-metal is for activating gpus (doesnt work n doesnt matter for intel chips)\n",
    "#opencv -> will be used to remove unclear images \n",
    "#matplotlib -> visualize images/data"
   ]
  },
  {
   "cell_type": "code",
   "execution_count": 4,
   "id": "fd16784d-6cbf-4f97-8c41-26a43cb4c730",
   "metadata": {
    "tags": []
   },
   "outputs": [
    {
     "name": "stdout",
     "output_type": "stream",
     "text": [
      "Name: tensorflow\n",
      "Version: 2.15.0\n",
      "Summary: TensorFlow is an open source machine learning framework for everyone.\n",
      "Home-page: https://www.tensorflow.org/\n",
      "Author: Google Inc.\n",
      "Author-email: packages@tensorflow.org\n",
      "License: Apache 2.0\n",
      "Location: /Users/layla/ImageClassification/imageclassification/lib/python3.11/site-packages\n",
      "Requires: absl-py, astunparse, flatbuffers, gast, google-pasta, grpcio, h5py, keras, libclang, ml-dtypes, numpy, opt-einsum, packaging, protobuf, setuptools, six, tensorboard, tensorflow-estimator, tensorflow-io-gcs-filesystem, termcolor, typing-extensions, wrapt\n",
      "Required-by: \n"
     ]
    }
   ],
   "source": [
    "!pip show tensorflow"
   ]
  },
  {
   "cell_type": "code",
   "execution_count": 5,
   "id": "1101eb17-1d1c-4bb3-a05f-c7f827c5bd53",
   "metadata": {
    "tags": []
   },
   "outputs": [
    {
     "name": "stdout",
     "output_type": "stream",
     "text": [
      "Package                      Version\n",
      "---------------------------- --------\n",
      "absl-py                      2.1.0\n",
      "astunparse                   1.6.3\n",
      "cachetools                   5.3.2\n",
      "certifi                      2024.2.2\n",
      "charset-normalizer           3.3.2\n",
      "contourpy                    1.2.0\n",
      "cycler                       0.12.1\n",
      "flatbuffers                  23.5.26\n",
      "fonttools                    4.48.1\n",
      "gast                         0.4.0\n",
      "google-auth                  2.27.0\n",
      "google-auth-oauthlib         1.0.0\n",
      "google-pasta                 0.2.0\n",
      "grpcio                       1.60.1\n",
      "h5py                         3.10.0\n",
      "idna                         3.6\n",
      "jax                          0.4.24\n",
      "keras                        2.15.0\n",
      "kiwisolver                   1.4.5\n",
      "libclang                     16.0.6\n",
      "Markdown                     3.5.2\n",
      "MarkupSafe                   2.1.5\n",
      "matplotlib                   3.8.2\n",
      "ml-dtypes                    0.2.0\n",
      "numpy                        1.23.5\n",
      "oauthlib                     3.2.2\n",
      "opencv-python                4.9.0.80\n",
      "opt-einsum                   3.3.0\n",
      "packaging                    23.2\n",
      "pillow                       10.2.0\n",
      "pip                          23.1.2\n",
      "protobuf                     4.25.2\n",
      "pyasn1                       0.5.1\n",
      "pyasn1-modules               0.3.0\n",
      "pyparsing                    3.1.1\n",
      "python-dateutil              2.8.2\n",
      "requests                     2.31.0\n",
      "requests-oauthlib            1.3.1\n",
      "rsa                          4.9\n",
      "scipy                        1.12.0\n",
      "setuptools                   65.5.0\n",
      "six                          1.16.0\n",
      "tensorboard                  2.15.2\n",
      "tensorboard-data-server      0.7.2\n",
      "tensorflow                   2.15.0\n",
      "tensorflow-estimator         2.15.0\n",
      "tensorflow-io-gcs-filesystem 0.36.0\n",
      "tensorflow-macos             2.12.0\n",
      "tensorflow-metal             1.0.0\n",
      "termcolor                    2.4.0\n",
      "typing_extensions            4.9.0\n",
      "urllib3                      2.2.0\n",
      "Werkzeug                     3.0.1\n",
      "wheel                        0.42.0\n",
      "wrapt                        1.14.1\n",
      "\n",
      "\u001b[1m[\u001b[0m\u001b[34;49mnotice\u001b[0m\u001b[1;39;49m]\u001b[0m\u001b[39;49m A new release of pip is available: \u001b[0m\u001b[31;49m23.1.2\u001b[0m\u001b[39;49m -> \u001b[0m\u001b[32;49m24.0\u001b[0m\n",
      "\u001b[1m[\u001b[0m\u001b[34;49mnotice\u001b[0m\u001b[1;39;49m]\u001b[0m\u001b[39;49m To update, run: \u001b[0m\u001b[32;49mpip install --upgrade pip\u001b[0m\n"
     ]
    }
   ],
   "source": [
    "!pip list"
   ]
  },
  {
   "cell_type": "code",
   "execution_count": 11,
   "id": "ede0946e-fecd-4089-8af0-ea65f4d0051a",
   "metadata": {},
   "outputs": [],
   "source": [
    "import tensorflow as tf\n",
    "import os\n",
    "#os is used to create paths, list directories and other functions that adjusts appropriately according to the operating system"
   ]
  },
  {
   "cell_type": "code",
   "execution_count": 12,
   "id": "7da4bd87-dbc3-4a5a-a2c6-7685446d989b",
   "metadata": {
    "tags": []
   },
   "outputs": [
    {
     "name": "stdout",
     "output_type": "stream",
     "text": [
      "Requirement already satisfied: tensorflow-macos in /Users/layla/ImageClassification/imageclassification/lib/python3.11/site-packages (2.12.0)\n",
      "Requirement already satisfied: absl-py>=1.0.0 in /Users/layla/ImageClassification/imageclassification/lib/python3.11/site-packages (from tensorflow-macos) (2.1.0)\n",
      "Requirement already satisfied: astunparse>=1.6.0 in /Users/layla/ImageClassification/imageclassification/lib/python3.11/site-packages (from tensorflow-macos) (1.6.3)\n",
      "Requirement already satisfied: flatbuffers>=2.0 in /Users/layla/ImageClassification/imageclassification/lib/python3.11/site-packages (from tensorflow-macos) (23.5.26)\n",
      "Requirement already satisfied: gast<=0.4.0,>=0.2.1 in /Users/layla/ImageClassification/imageclassification/lib/python3.11/site-packages (from tensorflow-macos) (0.4.0)\n",
      "Requirement already satisfied: google-pasta>=0.1.1 in /Users/layla/ImageClassification/imageclassification/lib/python3.11/site-packages (from tensorflow-macos) (0.2.0)\n",
      "Requirement already satisfied: h5py>=2.9.0 in /Users/layla/ImageClassification/imageclassification/lib/python3.11/site-packages (from tensorflow-macos) (3.10.0)\n",
      "Requirement already satisfied: jax>=0.3.15 in /Users/layla/ImageClassification/imageclassification/lib/python3.11/site-packages (from tensorflow-macos) (0.4.24)\n",
      "Requirement already satisfied: libclang>=13.0.0 in /Users/layla/ImageClassification/imageclassification/lib/python3.11/site-packages (from tensorflow-macos) (16.0.6)\n",
      "Requirement already satisfied: numpy<1.24,>=1.22 in /Users/layla/ImageClassification/imageclassification/lib/python3.11/site-packages (from tensorflow-macos) (1.23.5)\n",
      "Requirement already satisfied: opt-einsum>=2.3.2 in /Users/layla/ImageClassification/imageclassification/lib/python3.11/site-packages (from tensorflow-macos) (3.3.0)\n",
      "Requirement already satisfied: packaging in /Users/layla/ImageClassification/imageclassification/lib/python3.11/site-packages (from tensorflow-macos) (23.2)\n",
      "Requirement already satisfied: protobuf!=4.21.0,!=4.21.1,!=4.21.2,!=4.21.3,!=4.21.4,!=4.21.5,<5.0.0dev,>=3.20.3 in /Users/layla/ImageClassification/imageclassification/lib/python3.11/site-packages (from tensorflow-macos) (4.25.2)\n",
      "Requirement already satisfied: setuptools in /Users/layla/ImageClassification/imageclassification/lib/python3.11/site-packages (from tensorflow-macos) (65.5.0)\n",
      "Requirement already satisfied: six>=1.12.0 in /Users/layla/ImageClassification/imageclassification/lib/python3.11/site-packages (from tensorflow-macos) (1.16.0)\n",
      "Requirement already satisfied: termcolor>=1.1.0 in /Users/layla/ImageClassification/imageclassification/lib/python3.11/site-packages (from tensorflow-macos) (2.4.0)\n",
      "Requirement already satisfied: typing-extensions>=3.6.6 in /Users/layla/ImageClassification/imageclassification/lib/python3.11/site-packages (from tensorflow-macos) (4.9.0)\n",
      "Requirement already satisfied: wrapt<1.15,>=1.11.0 in /Users/layla/ImageClassification/imageclassification/lib/python3.11/site-packages (from tensorflow-macos) (1.14.1)\n",
      "Requirement already satisfied: grpcio<2.0,>=1.24.3 in /Users/layla/ImageClassification/imageclassification/lib/python3.11/site-packages (from tensorflow-macos) (1.60.1)\n",
      "Requirement already satisfied: tensorboard<2.13,>=2.12 in /Users/layla/ImageClassification/imageclassification/lib/python3.11/site-packages (from tensorflow-macos) (2.12.3)\n",
      "Requirement already satisfied: tensorflow-estimator<2.13,>=2.12.0 in /Users/layla/ImageClassification/imageclassification/lib/python3.11/site-packages (from tensorflow-macos) (2.12.0)\n",
      "Requirement already satisfied: keras<2.13,>=2.12.0 in /Users/layla/ImageClassification/imageclassification/lib/python3.11/site-packages (from tensorflow-macos) (2.12.0)\n",
      "Requirement already satisfied: tensorflow-io-gcs-filesystem>=0.23.1 in /Users/layla/ImageClassification/imageclassification/lib/python3.11/site-packages (from tensorflow-macos) (0.36.0)\n",
      "Requirement already satisfied: wheel<1.0,>=0.23.0 in /Users/layla/ImageClassification/imageclassification/lib/python3.11/site-packages (from astunparse>=1.6.0->tensorflow-macos) (0.42.0)\n",
      "Requirement already satisfied: ml-dtypes>=0.2.0 in /Users/layla/ImageClassification/imageclassification/lib/python3.11/site-packages (from jax>=0.3.15->tensorflow-macos) (0.2.0)\n",
      "Requirement already satisfied: scipy>=1.9 in /Users/layla/ImageClassification/imageclassification/lib/python3.11/site-packages (from jax>=0.3.15->tensorflow-macos) (1.12.0)\n",
      "Requirement already satisfied: google-auth<3,>=1.6.3 in /Users/layla/ImageClassification/imageclassification/lib/python3.11/site-packages (from tensorboard<2.13,>=2.12->tensorflow-macos) (2.27.0)\n",
      "Requirement already satisfied: google-auth-oauthlib<1.1,>=0.5 in /Users/layla/ImageClassification/imageclassification/lib/python3.11/site-packages (from tensorboard<2.13,>=2.12->tensorflow-macos) (1.0.0)\n",
      "Requirement already satisfied: markdown>=2.6.8 in /Users/layla/ImageClassification/imageclassification/lib/python3.11/site-packages (from tensorboard<2.13,>=2.12->tensorflow-macos) (3.5.2)\n",
      "Requirement already satisfied: requests<3,>=2.21.0 in /Users/layla/ImageClassification/imageclassification/lib/python3.11/site-packages (from tensorboard<2.13,>=2.12->tensorflow-macos) (2.31.0)\n",
      "Requirement already satisfied: tensorboard-data-server<0.8.0,>=0.7.0 in /Users/layla/ImageClassification/imageclassification/lib/python3.11/site-packages (from tensorboard<2.13,>=2.12->tensorflow-macos) (0.7.2)\n",
      "Requirement already satisfied: werkzeug>=1.0.1 in /Users/layla/ImageClassification/imageclassification/lib/python3.11/site-packages (from tensorboard<2.13,>=2.12->tensorflow-macos) (3.0.1)\n",
      "Requirement already satisfied: cachetools<6.0,>=2.0.0 in /Users/layla/ImageClassification/imageclassification/lib/python3.11/site-packages (from google-auth<3,>=1.6.3->tensorboard<2.13,>=2.12->tensorflow-macos) (5.3.2)\n",
      "Requirement already satisfied: pyasn1-modules>=0.2.1 in /Users/layla/ImageClassification/imageclassification/lib/python3.11/site-packages (from google-auth<3,>=1.6.3->tensorboard<2.13,>=2.12->tensorflow-macos) (0.3.0)\n",
      "Requirement already satisfied: rsa<5,>=3.1.4 in /Users/layla/ImageClassification/imageclassification/lib/python3.11/site-packages (from google-auth<3,>=1.6.3->tensorboard<2.13,>=2.12->tensorflow-macos) (4.9)\n",
      "Requirement already satisfied: requests-oauthlib>=0.7.0 in /Users/layla/ImageClassification/imageclassification/lib/python3.11/site-packages (from google-auth-oauthlib<1.1,>=0.5->tensorboard<2.13,>=2.12->tensorflow-macos) (1.3.1)\n",
      "Requirement already satisfied: charset-normalizer<4,>=2 in /Users/layla/ImageClassification/imageclassification/lib/python3.11/site-packages (from requests<3,>=2.21.0->tensorboard<2.13,>=2.12->tensorflow-macos) (3.3.2)\n",
      "Requirement already satisfied: idna<4,>=2.5 in /Users/layla/ImageClassification/imageclassification/lib/python3.11/site-packages (from requests<3,>=2.21.0->tensorboard<2.13,>=2.12->tensorflow-macos) (3.6)\n",
      "Requirement already satisfied: urllib3<3,>=1.21.1 in /Users/layla/ImageClassification/imageclassification/lib/python3.11/site-packages (from requests<3,>=2.21.0->tensorboard<2.13,>=2.12->tensorflow-macos) (2.2.0)\n",
      "Requirement already satisfied: certifi>=2017.4.17 in /Users/layla/ImageClassification/imageclassification/lib/python3.11/site-packages (from requests<3,>=2.21.0->tensorboard<2.13,>=2.12->tensorflow-macos) (2024.2.2)\n",
      "Requirement already satisfied: MarkupSafe>=2.1.1 in /Users/layla/ImageClassification/imageclassification/lib/python3.11/site-packages (from werkzeug>=1.0.1->tensorboard<2.13,>=2.12->tensorflow-macos) (2.1.5)\n",
      "Requirement already satisfied: pyasn1<0.6.0,>=0.4.6 in /Users/layla/ImageClassification/imageclassification/lib/python3.11/site-packages (from pyasn1-modules>=0.2.1->google-auth<3,>=1.6.3->tensorboard<2.13,>=2.12->tensorflow-macos) (0.5.1)\n",
      "Requirement already satisfied: oauthlib>=3.0.0 in /Users/layla/ImageClassification/imageclassification/lib/python3.11/site-packages (from requests-oauthlib>=0.7.0->google-auth-oauthlib<1.1,>=0.5->tensorboard<2.13,>=2.12->tensorflow-macos) (3.2.2)\n",
      "\n",
      "\u001b[1m[\u001b[0m\u001b[34;49mnotice\u001b[0m\u001b[1;39;49m]\u001b[0m\u001b[39;49m A new release of pip is available: \u001b[0m\u001b[31;49m23.1.2\u001b[0m\u001b[39;49m -> \u001b[0m\u001b[32;49m24.0\u001b[0m\n",
      "\u001b[1m[\u001b[0m\u001b[34;49mnotice\u001b[0m\u001b[1;39;49m]\u001b[0m\u001b[39;49m To update, run: \u001b[0m\u001b[32;49mpip install --upgrade pip\u001b[0m\n"
     ]
    }
   ],
   "source": [
    "!pip install tensorflow-macos"
   ]
  },
  {
   "cell_type": "code",
   "execution_count": 13,
   "id": "df22acfe-41e1-490b-bbd5-b6670687432e",
   "metadata": {
    "tags": []
   },
   "outputs": [
    {
     "name": "stdout",
     "output_type": "stream",
     "text": [
      "Requirement already satisfied: tensorflow-metal in /Users/layla/ImageClassification/imageclassification/lib/python3.11/site-packages (1.0.0)\n",
      "Requirement already satisfied: wheel~=0.35 in /Users/layla/ImageClassification/imageclassification/lib/python3.11/site-packages (from tensorflow-metal) (0.42.0)\n",
      "Requirement already satisfied: six>=1.15.0 in /Users/layla/ImageClassification/imageclassification/lib/python3.11/site-packages (from tensorflow-metal) (1.16.0)\n",
      "\n",
      "\u001b[1m[\u001b[0m\u001b[34;49mnotice\u001b[0m\u001b[1;39;49m]\u001b[0m\u001b[39;49m A new release of pip is available: \u001b[0m\u001b[31;49m23.1.2\u001b[0m\u001b[39;49m -> \u001b[0m\u001b[32;49m24.0\u001b[0m\n",
      "\u001b[1m[\u001b[0m\u001b[34;49mnotice\u001b[0m\u001b[1;39;49m]\u001b[0m\u001b[39;49m To update, run: \u001b[0m\u001b[32;49mpip install --upgrade pip\u001b[0m\n"
     ]
    }
   ],
   "source": [
    "!pip install tensorflow-metal"
   ]
  },
  {
   "cell_type": "code",
   "execution_count": 14,
   "id": "251c2600-67c6-42d0-bb41-c5bc292aefeb",
   "metadata": {
    "tags": []
   },
   "outputs": [
    {
     "name": "stdout",
     "output_type": "stream",
     "text": [
      "\n",
      "Devices:  [PhysicalDevice(name='/physical_device:CPU:0', device_type='CPU')]\n"
     ]
    }
   ],
   "source": [
    "# no GPUs on this macbook\n",
    "devices = tf.config.list_physical_devices()\n",
    "print(\"\\nDevices: \", devices)\n",
    "gpus = tf.config.list_physical_devices('GPU')\n",
    "gpus\n",
    "if gpus:\n",
    "    details = tf.config.experimental.get_device_details(gpus[0])\n",
    "    print(\"GPU details: \", details)"
   ]
  },
  {
   "cell_type": "code",
   "execution_count": null,
   "id": "4eee6d67-2b2b-4b4f-98dd-cba38520c239",
   "metadata": {
    "tags": []
   },
   "outputs": [],
   "source": []
  },
  {
   "cell_type": "code",
   "execution_count": null,
   "id": "77c7a05b-e77c-4acd-bb76-b752b78b9d78",
   "metadata": {},
   "outputs": [],
   "source": []
  }
 ],
 "metadata": {
  "kernelspec": {
   "display_name": "imageclassification",
   "language": "python",
   "name": "imageclassification"
  },
  "language_info": {
   "codemirror_mode": {
    "name": "ipython",
    "version": 3
   },
   "file_extension": ".py",
   "mimetype": "text/x-python",
   "name": "python",
   "nbconvert_exporter": "python",
   "pygments_lexer": "ipython3",
   "version": "3.11.4"
  }
 },
 "nbformat": 4,
 "nbformat_minor": 5
}
