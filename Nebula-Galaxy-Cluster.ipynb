{
 "cells": [
  {
   "cell_type": "code",
   "execution_count": null,
   "id": "2315ef60-40d0-49b0-be79-78017671308f",
   "metadata": {},
   "outputs": [],
   "source": [
    "pip install torch"
   ]
  },
  {
   "cell_type": "code",
   "execution_count": null,
   "id": "ea3dfc84-b2b5-43e7-9455-7e4733176299",
   "metadata": {},
   "outputs": [],
   "source": [
    "pip install tqdm"
   ]
  },
  {
   "cell_type": "code",
   "execution_count": 6,
   "id": "3a6c4c81-7012-444c-b2c3-c856a26fa40b",
   "metadata": {
    "scrolled": true
   },
   "outputs": [],
   "source": [
    "import torch\n",
    "from IPython.display import Image  # for displaying images\n",
    "import os \n",
    "import random\n",
    "import shutil\n",
    "from sklearn.model_selection import train_test_split\n",
    "import xml.etree.ElementTree as ET\n",
    "from xml.dom import minidom\n",
    "from tqdm import tqdm\n",
    "from PIL import Image, ImageDraw\n",
    "import numpy as np\n",
    "import matplotlib.pyplot as plt\n",
    "\n",
    "random.seed(108)"
   ]
  },
  {
   "cell_type": "code",
   "execution_count": null,
   "id": "4a768013-b14e-406e-909a-7c6a57ff048e",
   "metadata": {},
   "outputs": [],
   "source": [
    "!git clone https://github.com/WongKinYiu/yolov7.git\n",
    " \n",
    "%cd yolov7\n",
    " \n",
    "!pip install -r requirements.txt"
   ]
  },
  {
   "cell_type": "code",
   "execution_count": 33,
   "id": "d582e78f-d6c7-4099-81dc-f6b4c770a0e8",
   "metadata": {},
   "outputs": [],
   "source": [
    "cwd = os.getcwd() "
   ]
  },
  {
   "cell_type": "code",
   "execution_count": null,
   "id": "9e2149de-3e11-4b36-b364-796b7c4b011d",
   "metadata": {},
   "outputs": [],
   "source": [
    "import os\n",
    "\n",
    "datapath = \"/Users/layla/Documents/Github/Stellar-Galactic-Classification/DeepSpaceYoloDataset\"\n",
    "\n",
    "# Ensure the current working directory is correct\n",
    "print(\"Current working directory:\", os.getcwd())\n",
    "\n",
    "# Check if the datapath directory exists\n",
    "if not os.path.exists(datapath):\n",
    "    print(\"Error: Datapath directory does not exist.\")\n",
    "else:\n",
    "    # Construct full paths for images and annotations directories\n",
    "    images_path = os.path.join(datapath, 'images')\n",
    "    annotations_path = os.path.join(datapath, 'labels')\n",
    "\n",
    "    # Check if the images and annotations directories exist\n",
    "    if not os.path.exists(images_path):\n",
    "        print(\"Error: Images directory does not exist.\")\n",
    "    elif not os.path.exists(annotations_path):\n",
    "        print(\"Error: Annotations directory does not exist.\")\n",
    "    else:\n",
    "        # List files in the images directory\n",
    "        images = [os.path.join(images_path, filename) for filename in os.listdir(images_path)]\n",
    "\n",
    "        # List files in the annotations directory\n",
    "        annotations = [os.path.join(annotations_path, filename) for filename in os.listdir(annotations_path)]\n",
    "\n",
    "        print(\"Images:\", images)\n",
    "        print(\"Annotations:\", annotations)\n"
   ]
  },
  {
   "cell_type": "code",
   "execution_count": null,
   "id": "89e2ee27-0a98-45fa-8e46-b06982279518",
   "metadata": {},
   "outputs": [],
   "source": [
    "images.sort()\n",
    "annotations.sort()\n",
    "annotations"
   ]
  },
  {
   "cell_type": "code",
   "execution_count": 55,
   "id": "cf099e80-b60f-45bb-b873-2796a629c7ed",
   "metadata": {},
   "outputs": [],
   "source": [
    "train_images, val_images, train_annotations, val_annotations = train_test_split(images, annotations, test_size = 0.2, random_state = 1)\n",
    "val_images, test_images, val_annotations, test_annotations = train_test_split(val_images, val_annotations, test_size = 0.5, random_state = 1)"
   ]
  },
  {
   "cell_type": "code",
   "execution_count": 57,
   "id": "95553d23-6002-4d87-a7d8-66216fb3feba",
   "metadata": {},
   "outputs": [],
   "source": [
    "!mkdir -p DeepSpaceYoloDataset/images/train DeepSpaceYoloDataset/images/val DeepSpaceYoloDataset/images/test DeepSpaceYoloDataset/labels/train DeepSpaceYoloDataset/labels/val DeepSpaceYoloDataset/labels/test\n"
   ]
  },
  {
   "cell_type": "code",
   "execution_count": 58,
   "id": "7c95bc64-7a68-4558-ba8c-d5434fb5d9ed",
   "metadata": {},
   "outputs": [],
   "source": [
    "import shutil\n",
    "\n",
    "# Utility function to move images \n",
    "def move_files_to_folder(list_of_files, destination_folder):\n",
    "    for f in list_of_files:\n",
    "        try:\n",
    "            shutil.move(f, destination_folder)\n",
    "        except Exception as e:\n",
    "            print(f\"Error moving file {f}:\", str(e))\n",
    "\n",
    "# Move the splits into their folders\n",
    "move_files_to_folder(train_images, 'DeepSpaceYoloDataset/images/train')\n",
    "move_files_to_folder(val_images, 'DeepSpaceYoloDataset/images/val/')\n",
    "move_files_to_folder(test_images, 'DeepSpaceYoloDataset/images/test/')\n",
    "move_files_to_folder(train_annotations, 'DeepSpaceYoloDataset/labels/train/')\n",
    "move_files_to_folder(val_annotations, 'DeepSpaceYoloDataset/labels/val/')\n",
    "move_files_to_folder(test_annotations, 'DeepSpaceYoloDataset/labels/test/')\n"
   ]
  },
  {
   "cell_type": "code",
   "execution_count": null,
   "id": "5d1ed8df-1580-4b3f-89e4-1e1f8c998771",
   "metadata": {},
   "outputs": [],
   "source": []
  }
 ],
 "metadata": {
  "kernelspec": {
   "display_name": "imageclassification",
   "language": "python",
   "name": "imageclassification"
  },
  "language_info": {
   "codemirror_mode": {
    "name": "ipython",
    "version": 3
   },
   "file_extension": ".py",
   "mimetype": "text/x-python",
   "name": "python",
   "nbconvert_exporter": "python",
   "pygments_lexer": "ipython3",
   "version": "3.11.4"
  }
 },
 "nbformat": 4,
 "nbformat_minor": 5
}
