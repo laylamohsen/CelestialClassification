{
 "cells": [
  {
   "cell_type": "markdown",
   "id": "269ec876-ee86-4010-9de1-55fb3194f3c6",
   "metadata": {},
   "source": [
    "# 1. Installing libraries, Configuring GPUs"
   ]
  },
  {
   "cell_type": "code",
   "execution_count": null,
   "id": "44c2badd-bfad-4f0a-b8b9-7ff13f5c76c7",
   "metadata": {
    "tags": []
   },
   "outputs": [],
   "source": [
    "pip install --upgrade pip"
   ]
  },
  {
   "cell_type": "code",
   "execution_count": null,
   "id": "3686ba8a-83a8-44df-967d-9545e0fca1cc",
   "metadata": {
    "tags": []
   },
   "outputs": [],
   "source": [
    "!pip install tensorflow opencv-python matplotlib\n",
    "#tensorflow -> deep learning pipeline \n",
    "#tensorflow-metal is for activating gpus (doesnt work n doesnt matter for intel chips)\n",
    "#opencv -> will be used to remove unclear images, read images etc. \n",
    "#matplotlib -> visualize images/data"
   ]
  },
  {
   "cell_type": "code",
   "execution_count": null,
   "id": "fd16784d-6cbf-4f97-8c41-26a43cb4c730",
   "metadata": {
    "tags": []
   },
   "outputs": [],
   "source": [
    "!pip show tensorflow"
   ]
  },
  {
   "cell_type": "code",
   "execution_count": null,
   "id": "1101eb17-1d1c-4bb3-a05f-c7f827c5bd53",
   "metadata": {
    "tags": []
   },
   "outputs": [],
   "source": [
    "!pip list"
   ]
  },
  {
   "cell_type": "code",
   "execution_count": 44,
   "id": "ede0946e-fecd-4089-8af0-ea65f4d0051a",
   "metadata": {},
   "outputs": [],
   "source": [
    "import tensorflow as tf\n",
    "import os\n",
    "#os is used to create paths, list directories and other functions that adjusts appropriately according to the operating system"
   ]
  },
  {
   "cell_type": "code",
   "execution_count": null,
   "id": "7da4bd87-dbc3-4a5a-a2c6-7685446d989b",
   "metadata": {
    "tags": []
   },
   "outputs": [],
   "source": [
    "!pip install tensorflow-macos"
   ]
  },
  {
   "cell_type": "code",
   "execution_count": null,
   "id": "df22acfe-41e1-490b-bbd5-b6670687432e",
   "metadata": {
    "tags": []
   },
   "outputs": [],
   "source": [
    "!pip install tensorflow-metal"
   ]
  },
  {
   "cell_type": "code",
   "execution_count": 8,
   "id": "251c2600-67c6-42d0-bb41-c5bc292aefeb",
   "metadata": {
    "tags": []
   },
   "outputs": [
    {
     "name": "stdout",
     "output_type": "stream",
     "text": [
      "\n",
      "Devices:  [PhysicalDevice(name='/physical_device:CPU:0', device_type='CPU')]\n"
     ]
    }
   ],
   "source": [
    "# no GPUs on this macbook\n",
    "devices = tf.config.list_physical_devices()\n",
    "print(\"\\nDevices: \", devices)\n",
    "gpus = tf.config.list_physical_devices('GPU')\n",
    "gpus\n",
    "if gpus:\n",
    "    details = tf.config.experimental.get_device_details(gpus[0])\n",
    "    print(\"GPU details: \", details)"
   ]
  },
  {
   "cell_type": "code",
   "execution_count": 34,
   "id": "4eee6d67-2b2b-4b4f-98dd-cba38520c239",
   "metadata": {
    "tags": []
   },
   "outputs": [],
   "source": [
    "import cv2 as cv \n",
    "from matplotlib import pyplot as plt "
   ]
  },
  {
   "cell_type": "code",
   "execution_count": 46,
   "id": "77c7a05b-e77c-4acd-bb76-b752b78b9d78",
   "metadata": {},
   "outputs": [],
   "source": [
    "datapath = 'Star-Galaxy Dataset'"
   ]
  },
  {
   "cell_type": "code",
   "execution_count": null,
   "id": "335832f4-bbc8-4907-8256-66d4077e968f",
   "metadata": {},
   "outputs": [],
   "source": [
    "os.listdir(os.path.join(datapath, 'star'))\n",
    "os.listdir(os.path.join(datapath, 'galaxy'))"
   ]
  },
  {
   "cell_type": "code",
   "execution_count": 47,
   "id": "622d852f-80e0-43bd-96e8-2f1cff175bb2",
   "metadata": {
    "scrolled": true
   },
   "outputs": [
    {
     "data": {
      "text/plain": [
       "(64, 64, 3)"
      ]
     },
     "execution_count": 47,
     "metadata": {},
     "output_type": "execute_result"
    }
   ],
   "source": [
    "#cv.imread('Star-Galaxy Dataset/star/grb0422a_01_104_1014_6.jpg')\n",
    "img = cv.imread(os.path.join(datapath, 'star', 'grb0422a_01_104_1014_6.jpg'))\n",
    "img.shape"
   ]
  },
  {
   "cell_type": "code",
   "execution_count": 49,
   "id": "42ab1b10-a486-4761-8b02-64ca64691dd5",
   "metadata": {},
   "outputs": [
    {
     "data": {
      "image/png": "[encoded data removed]",
      "text/plain": [
       "<Figure size 640x480 with 1 Axes>"
      ]
     },
     "metadata": {},
     "output_type": "display_data"
    }
   ],
   "source": [
    "#opencv processes in bgr not rgb so it messes with colors of original pic\n",
    "plt.imshow(cv2.cvtColor(img, cv2.COLOR_BGR2RGB)) \n",
    "plt.show()"
   ]
  },
  {
   "cell_type": "code",
   "execution_count": null,
   "id": "08fc773c-c353-42a7-b96c-df1372ff09e1",
   "metadata": {},
   "outputs": [],
   "source": [
    "data = tf.keras.utils.image_dataset_from_directory??"
   ]
  },
  {
   "cell_type": "code",
   "execution_count": 65,
   "id": "f602526f-a107-4fe1-b4a3-8f28eb7cba98",
   "metadata": {},
   "outputs": [
    {
     "name": "stdout",
     "output_type": "stream",
     "text": [
      "Found 3989 files belonging to 2 classes.\n"
     ]
    }
   ],
   "source": [
    "#does the labelled dataset for you & a bunch of preprocessing including resizing\n",
    "#******** may want to try different resizing metrics, batch sizes etc. *********\n",
    "data = tf.keras.utils.image_dataset_from_directory(datapath)"
   ]
  },
  {
   "cell_type": "code",
   "execution_count": 45,
   "id": "2b79fe33-393c-48a2-b201-b1366725fec5",
   "metadata": {},
   "outputs": [],
   "source": [
    "import numpy as np"
   ]
  },
  {
   "cell_type": "code",
   "execution_count": 66,
   "id": "0404e4af-244d-405d-b77b-1d1c6c9ffba5",
   "metadata": {},
   "outputs": [
    {
     "data": {
      "text/plain": [
       "<tensorflow.python.data.ops.dataset_ops.NumpyIterator at 0x12f2e66d0>"
      ]
     },
     "execution_count": 66,
     "metadata": {},
     "output_type": "execute_result"
    }
   ],
   "source": [
    "# this allows us to access the generator from the data pipeline, data[0] etc.\n",
    "# allows us to access/loop through batches\n",
    "data_array = data.as_numpy_iterator()\n",
    "data_array"
   ]
  },
  {
   "cell_type": "code",
   "execution_count": 87,
   "id": "a9506e90-f5b1-4e9e-ba81-521e8f10c62d",
   "metadata": {},
   "outputs": [
    {
     "data": {
      "text/plain": [
       "(32, 256, 256, 3)"
      ]
     },
     "execution_count": 87,
     "metadata": {},
     "output_type": "execute_result"
    }
   ],
   "source": [
    "#this grabs a batch, which is set to 32 images by default as per the keras.utils metrics\n",
    "batch = data_array.next()\n",
    "batch[0].shape"
   ]
  },
  {
   "cell_type": "code",
   "execution_count": 88,
   "id": "3bf68e96-98c5-44ba-b6fd-ab5a221d0bcf",
   "metadata": {},
   "outputs": [
    {
     "data": {
      "text/plain": [
       "array([1, 0, 1, 1, 0, 1, 1, 1, 1, 0, 1, 0, 1, 1, 1, 1, 0, 1, 0, 1, 1, 0,\n",
       "       1, 1, 1, 1, 1, 1, 0, 0, 1, 1], dtype=int32)"
      ]
     },
     "execution_count": 88,
     "metadata": {},
     "output_type": "execute_result"
    }
   ],
   "source": [
    "#its of length 2 because it splits data to images and labels\n",
    "# so batch[0] has images, batch[1] has labels\n",
    "len(batch)\n",
    "batch[0]\n",
    "batch[1]"
   ]
  },
  {
   "cell_type": "code",
   "execution_count": 94,
   "id": "ff518f62-b781-412b-b290-d7a7ebc2641b",
   "metadata": {},
   "outputs": [
    {
     "data": {
      "text/plain": [
       "255.0"
      ]
     },
     "execution_count": 94,
     "metadata": {},
     "output_type": "execute_result"
    }
   ],
   "source": [
    "batch[0].max()"
   ]
  },
  {
   "cell_type": "code",
   "execution_count": 89,
   "id": "8e2225af-4b6d-49eb-b774-b7b24a9e57d6",
   "metadata": {},
   "outputs": [
    {
     "name": "stdout",
     "output_type": "stream",
     "text": [
      "galaxy: 0\n",
      "star: 1\n"
     ]
    }
   ],
   "source": [
    "#shows which class label is 0 or 1\n",
    "for i, class_name in enumerate(data.class_names):\n",
    "    print(f\"{class_name}: {i}\")"
   ]
  },
  {
   "cell_type": "markdown",
   "id": "46577209-1a0d-42cf-a11d-4ffc4e81f1da",
   "metadata": {},
   "source": [
    "# 2. Data Preprocessing"
   ]
  },
  {
   "cell_type": "code",
   "execution_count": null,
   "id": "e8e9f6ed-1aed-488f-b205-50a8eff041e6",
   "metadata": {},
   "outputs": [],
   "source": [
    "data.map??"
   ]
  },
  {
   "cell_type": "code",
   "execution_count": 91,
   "id": "cf6cdadb-6c9b-4c7e-b9ae-52efc4bc792e",
   "metadata": {},
   "outputs": [],
   "source": [
    "# we will use the function .map to rescale the images from 0 to 255 to 0 to 1 as it allows better results\n",
    "# map functiond allows transformations on the data in the data pipeline so that it is applied everytime a batch is loaded\n",
    "# speeds up how quickly we can access our data & does it throughout the pipeline\n",
    "data = data.map(lambda x, y: (x/255, y))"
   ]
  },
  {
   "cell_type": "code",
   "execution_count": 99,
   "id": "f3f36b7a-32ab-4f1f-974f-95c803759240",
   "metadata": {},
   "outputs": [
    {
     "data": {
      "text/plain": [
       "1.0"
      ]
     },
     "execution_count": 99,
     "metadata": {},
     "output_type": "execute_result"
    }
   ],
   "source": [
    "data_array = data.as_numpy_iterator()\n",
    "batch = data_array.next()\n",
    "batch[0].max()"
   ]
  },
  {
   "cell_type": "markdown",
   "id": "77f4068c-8a2d-4fb2-9750-809f963a917d",
   "metadata": {},
   "source": [
    "# 3. Splitting Data into Train, Test & Validation"
   ]
  },
  {
   "cell_type": "code",
   "execution_count": 106,
   "id": "a3688456-d279-4c36-bf49-b15cc8a56a21",
   "metadata": {},
   "outputs": [
    {
     "data": {
      "text/plain": [
       "125"
      ]
     },
     "execution_count": 106,
     "metadata": {},
     "output_type": "execute_result"
    }
   ],
   "source": [
    "len(data)\n",
    "# so we have 125 batches, each with 32 images\n",
    "# we will split it accordingly --> 70% train, 20% validation, 10% test"
   ]
  },
  {
   "cell_type": "code",
   "execution_count": 107,
   "id": "5b4f3774-2b0f-4910-8a49-4064a81952ee",
   "metadata": {},
   "outputs": [
    {
     "data": {
      "text/plain": [
       "87"
      ]
     },
     "execution_count": 107,
     "metadata": {},
     "output_type": "execute_result"
    }
   ],
   "source": [
    "train_size = int(len(data)*0.7)\n",
    "train_size"
   ]
  },
  {
   "cell_type": "code",
   "execution_count": 114,
   "id": "55463bf0-9573-4688-a773-7018a838c443",
   "metadata": {},
   "outputs": [
    {
     "data": {
      "text/plain": [
       "26"
      ]
     },
     "execution_count": 114,
     "metadata": {},
     "output_type": "execute_result"
    }
   ],
   "source": [
    "#had to add 1 so that train+val+test add up to the total number of batches\n",
    "#the reason it doesnt do that naturally is because we're converting to int\n",
    "val_size = int(len(data)*0.2)+1\n",
    "val_size"
   ]
  },
  {
   "cell_type": "code",
   "execution_count": 115,
   "id": "5e33e64d-3494-41e4-b6a5-6756d6f5fdc9",
   "metadata": {},
   "outputs": [
    {
     "data": {
      "text/plain": [
       "12"
      ]
     },
     "execution_count": 115,
     "metadata": {},
     "output_type": "execute_result"
    }
   ],
   "source": [
    "test_size = int(len(data)*0.1)\n",
    "test_size"
   ]
  },
  {
   "cell_type": "code",
   "execution_count": 116,
   "id": "3746e45a-dfc3-4731-bee3-c9cb629c698a",
   "metadata": {},
   "outputs": [
    {
     "data": {
      "text/plain": [
       "125"
      ]
     },
     "execution_count": 116,
     "metadata": {},
     "output_type": "execute_result"
    }
   ],
   "source": [
    "train_size + val_size + test_size"
   ]
  },
  {
   "cell_type": "code",
   "execution_count": 119,
   "id": "bc1c392c-0794-4017-a31a-54131d283b82",
   "metadata": {},
   "outputs": [],
   "source": [
    "train = data.take(train_size)\n",
    "val = data.skip(train_size).take(val_size)\n",
    "test = data.skip(train_size + test_size).take(test_size)"
   ]
  },
  {
   "cell_type": "code",
   "execution_count": 121,
   "id": "9ba9fc6a-1911-4084-9488-a834d2ff6f83",
   "metadata": {},
   "outputs": [
    {
     "data": {
      "text/plain": [
       "87"
      ]
     },
     "execution_count": 121,
     "metadata": {},
     "output_type": "execute_result"
    }
   ],
   "source": [
    "len(train)"
   ]
  },
  {
   "cell_type": "code",
   "execution_count": 125,
   "id": "42b5a16e-181c-48ce-a8fc-3c3fe92383ec",
   "metadata": {},
   "outputs": [
    {
     "data": {
      "text/plain": [
       "26"
      ]
     },
     "execution_count": 125,
     "metadata": {},
     "output_type": "execute_result"
    }
   ],
   "source": [
    "len(val)"
   ]
  },
  {
   "cell_type": "code",
   "execution_count": 126,
   "id": "dc351b6f-b361-4dbe-a5de-17a4a3ebb405",
   "metadata": {},
   "outputs": [
    {
     "data": {
      "text/plain": [
       "12"
      ]
     },
     "execution_count": 126,
     "metadata": {},
     "output_type": "execute_result"
    }
   ],
   "source": [
    "len(test)"
   ]
  },
  {
   "cell_type": "markdown",
   "id": "00cec258-391b-4f6f-b262-067fd9743387",
   "metadata": {},
   "source": [
    "# 4. Building CNN Model"
   ]
  },
  {
   "cell_type": "code",
   "execution_count": 130,
   "id": "6f54cca0-1978-4f48-a06b-340dc491bfc7",
   "metadata": {},
   "outputs": [],
   "source": [
    "from tensorflow.keras.models import Sequential\n",
    "from tensorflow.keras.layers import  Flatten, Dense, Conv2D, MaxPooling2D"
   ]
  },
  {
   "cell_type": "code",
   "execution_count": 128,
   "id": "e6cbdf65-7dec-4e34-b98d-8de0aef3da26",
   "metadata": {},
   "outputs": [],
   "source": []
  },
  {
   "cell_type": "code",
   "execution_count": null,
   "id": "549dd6b4-2980-44f9-bc8c-e3c067edbecd",
   "metadata": {},
   "outputs": [],
   "source": []
  }
 ],
 "metadata": {
  "kernelspec": {
   "display_name": "imageclassification",
   "language": "python",
   "name": "imageclassification"
  },
  "language_info": {
   "codemirror_mode": {
    "name": "ipython",
    "version": 3
   },
   "file_extension": ".py",
   "mimetype": "text/x-python",
   "name": "python",
   "nbconvert_exporter": "python",
   "pygments_lexer": "ipython3",
   "version": "3.11.4"
  }
 },
 "nbformat": 4,
 "nbformat_minor": 5
}
