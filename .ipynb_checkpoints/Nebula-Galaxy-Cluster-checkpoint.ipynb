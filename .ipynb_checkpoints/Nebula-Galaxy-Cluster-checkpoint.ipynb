{
 "cells": [
  {
   "cell_type": "code",
   "execution_count": null,
   "id": "2315ef60-40d0-49b0-be79-78017671308f",
   "metadata": {},
   "outputs": [],
   "source": [
    "pip install torch"
   ]
  },
  {
   "cell_type": "code",
   "execution_count": null,
   "id": "ea3dfc84-b2b5-43e7-9455-7e4733176299",
   "metadata": {},
   "outputs": [],
   "source": [
    "pip install tqdm"
   ]
  },
  {
   "cell_type": "code",
   "execution_count": 1,
   "id": "3a6c4c81-7012-444c-b2c3-c856a26fa40b",
   "metadata": {
    "scrolled": true
   },
   "outputs": [],
   "source": [
    "import torch\n",
    "from IPython.display import Image  # for displaying images\n",
    "import os \n",
    "import random\n",
    "import shutil\n",
    "from sklearn.model_selection import train_test_split\n",
    "import xml.etree.ElementTree as ET\n",
    "from xml.dom import minidom\n",
    "from tqdm import tqdm\n",
    "from PIL import Image, ImageDraw\n",
    "import numpy as np\n",
    "import matplotlib.pyplot as plt\n",
    "\n",
    "random.seed(108)"
   ]
  },
  {
   "cell_type": "code",
   "execution_count": 2,
   "id": "044bea21-667a-47b1-8493-76fc103c0c61",
   "metadata": {},
   "outputs": [],
   "source": [
    "yolov7_directory = \"/Users/layla/Documents/Github/Stellar-Galactic-Classification/yolov7\"\n",
    "\n",
    "# Change the current working directory\n",
    "os.chdir(yolov7_directory)"
   ]
  },
  {
   "cell_type": "code",
   "execution_count": 3,
   "id": "d582e78f-d6c7-4099-81dc-f6b4c770a0e8",
   "metadata": {},
   "outputs": [],
   "source": [
    "cwd = os.getcwd() "
   ]
  },
  {
   "cell_type": "code",
   "execution_count": 42,
   "id": "9e2149de-3e11-4b36-b364-796b7c4b011d",
   "metadata": {},
   "outputs": [
    {
     "name": "stdout",
     "output_type": "stream",
     "text": [
      "Current working directory: /Users/layla/Documents/Github/Stellar-Galactic-Classification/DeepSpaceYoloDataset/yolov7/DeepSpaceYoloDataset\n",
      "Images: ['/Users/layla/Documents/Github/Stellar-Galactic-Classification/DeepSpaceYoloDataset/yolov7/DeepSpaceYoloDataset/images/.DS_Store', '/Users/layla/Documents/Github/Stellar-Galactic-Classification/DeepSpaceYoloDataset/yolov7/DeepSpaceYoloDataset/images/test', '/Users/layla/Documents/Github/Stellar-Galactic-Classification/DeepSpaceYoloDataset/yolov7/DeepSpaceYoloDataset/images/train', '/Users/layla/Documents/Github/Stellar-Galactic-Classification/DeepSpaceYoloDataset/yolov7/DeepSpaceYoloDataset/images/val']\n",
      "Annotations: ['/Users/layla/Documents/Github/Stellar-Galactic-Classification/DeepSpaceYoloDataset/yolov7/DeepSpaceYoloDataset/labels/test', '/Users/layla/Documents/Github/Stellar-Galactic-Classification/DeepSpaceYoloDataset/yolov7/DeepSpaceYoloDataset/labels/train', '/Users/layla/Documents/Github/Stellar-Galactic-Classification/DeepSpaceYoloDataset/yolov7/DeepSpaceYoloDataset/labels/val']\n"
     ]
    }
   ],
   "source": [
    "# import os\n",
    "\n",
    "# datapath = \"/Users/layla/Documents/Github/Stellar-Galactic-Classification/DeepSpaceYoloDataset/yolov7/DeepSpaceYoloDataset/\"\n",
    "\n",
    "# # Ensure the current working directory is correct\n",
    "# print(\"Current working directory:\", os.getcwd())\n",
    "\n",
    "# # Check if the datapath directory exists\n",
    "# if not os.path.exists(datapath):\n",
    "#     print(\"Error: Datapath directory does not exist.\")\n",
    "# else:\n",
    "#     # Construct full paths for images and annotations directories\n",
    "#     images_path = os.path.join(datapath, 'images')\n",
    "#     annotations_path = os.path.join(datapath, 'labels')\n",
    "\n",
    "#     # Check if the images and annotations directories exist\n",
    "#     if not os.path.exists(images_path):\n",
    "#         print(\"Error: Images directory does not exist.\")\n",
    "#     elif not os.path.exists(annotations_path):\n",
    "#         print(\"Error: Annotations directory does not exist.\")\n",
    "#     else:\n",
    "#         # List files in the images directory\n",
    "#         images = [os.path.join(images_path, filename) for filename in os.listdir(images_path)]\n",
    "\n",
    "#         # List files in the annotations directory\n",
    "#         annotations = [os.path.join(annotations_path, filename) for filename in os.listdir(annotations_path)]\n",
    "\n",
    "#         print(\"Images:\", images)\n",
    "#         print(\"Annotations:\", annotations)\n"
   ]
  },
  {
   "cell_type": "code",
   "execution_count": 43,
   "id": "89e2ee27-0a98-45fa-8e46-b06982279518",
   "metadata": {},
   "outputs": [
    {
     "data": {
      "text/plain": [
       "['/Users/layla/Documents/Github/Stellar-Galactic-Classification/DeepSpaceYoloDataset/yolov7/DeepSpaceYoloDataset/labels/test',\n",
       " '/Users/layla/Documents/Github/Stellar-Galactic-Classification/DeepSpaceYoloDataset/yolov7/DeepSpaceYoloDataset/labels/train',\n",
       " '/Users/layla/Documents/Github/Stellar-Galactic-Classification/DeepSpaceYoloDataset/yolov7/DeepSpaceYoloDataset/labels/val']"
      ]
     },
     "execution_count": 43,
     "metadata": {},
     "output_type": "execute_result"
    }
   ],
   "source": [
    "# images.sort()\n",
    "# annotations.sort()\n",
    "# annotations"
   ]
  },
  {
   "cell_type": "code",
   "execution_count": null,
   "id": "cf099e80-b60f-45bb-b873-2796a629c7ed",
   "metadata": {},
   "outputs": [],
   "source": [
    "# train_images, val_images, train_annotations, val_annotations = train_test_split(images, annotations, test_size = 0.2, random_state = 1)\n",
    "# val_images, test_images, val_annotations, test_annotations = train_test_split(val_images, val_annotations, test_size = 0.5, random_state = 1)"
   ]
  },
  {
   "cell_type": "code",
   "execution_count": null,
   "id": "95553d23-6002-4d87-a7d8-66216fb3feba",
   "metadata": {},
   "outputs": [],
   "source": [
    "# !mkdir -p DeepSpaceYoloDataset/images/train DeepSpaceYoloDataset/images/val DeepSpaceYoloDataset/images/test DeepSpaceYoloDataset/labels/train DeepSpaceYoloDataset/labels/val DeepSpaceYoloDataset/labels/test\n"
   ]
  },
  {
   "cell_type": "code",
   "execution_count": null,
   "id": "7c95bc64-7a68-4558-ba8c-d5434fb5d9ed",
   "metadata": {},
   "outputs": [],
   "source": [
    "# import shutil\n",
    "\n",
    "# # Utility function to move images \n",
    "# def move_files_to_folder(list_of_files, destination_folder):\n",
    "#     for f in list_of_files:\n",
    "#         try:\n",
    "#             shutil.move(f, destination_folder)\n",
    "#         except Exception as e:\n",
    "#             print(f\"Error moving file {f}:\", str(e))\n",
    "\n",
    "# # Move the splits into their folders\n",
    "# move_files_to_folder(train_images, 'DeepSpaceYoloDataset/images/train')\n",
    "# move_files_to_folder(val_images, 'DeepSpaceYoloDataset/images/val/')\n",
    "# move_files_to_folder(test_images, 'DeepSpaceYoloDataset/images/test/')\n",
    "# move_files_to_folder(train_annotations, 'DeepSpaceYoloDataset/labels/train/')\n",
    "# move_files_to_folder(val_annotations, 'DeepSpaceYoloDataset/labels/val/')\n",
    "# move_files_to_folder(test_annotations, 'DeepSpaceYoloDataset/labels/test/')\n"
   ]
  },
  {
   "cell_type": "code",
   "execution_count": 4,
   "id": "5d1ed8df-1580-4b3f-89e4-1e1f8c998771",
   "metadata": {},
   "outputs": [
    {
     "name": "stdout",
     "output_type": "stream",
     "text": [
      "Unique numbers present in the labels/train files:\n",
      "0\n"
     ]
    }
   ],
   "source": [
    "labels_train_directory = \"/Users/layla/Documents/Github/Stellar-Galactic-Classification/yolov7/DeepSpaceYoloDataset/labels/train\"\n",
    "\n",
    "# List to store unique numbers\n",
    "unique_numbers = set()\n",
    "\n",
    "# Iterate through each file in the directory\n",
    "for filename in os.listdir(labels_train_directory):\n",
    "    filepath = os.path.join(labels_train_directory, filename)\n",
    "    # Read the contents of the file\n",
    "    if '.txt' not in filename:\n",
    "        continue\n",
    "    with open(filepath, 'r') as file:\n",
    "        # Iterate through each line in the file\n",
    "        for line in file:\n",
    "            # Split the line by space and take the first element\n",
    "            number = line.split()[0]\n",
    "            # Add the number to the set of unique numbers\n",
    "            unique_numbers.add(number)\n",
    "\n",
    "# Print the unique numbers\n",
    "print(\"Unique numbers present in the labels/train files:\")\n",
    "for number in unique_numbers:\n",
    "    print(number)"
   ]
  },
  {
   "cell_type": "code",
   "execution_count": 5,
   "id": "5c57d2dd-9e58-41e0-8d4d-446944794b96",
   "metadata": {},
   "outputs": [
    {
     "data": {
      "text/plain": [
       "'/Users/layla/Documents/Github/Stellar-Galactic-Classification/yolov7'"
      ]
     },
     "execution_count": 5,
     "metadata": {},
     "output_type": "execute_result"
    }
   ],
   "source": [
    "cwd = os.getcwd() \n",
    "cwd\n"
   ]
  },
  {
   "cell_type": "code",
   "execution_count": 34,
   "id": "1381e71f-c1a9-489d-9aa8-0fa1bb083be2",
   "metadata": {},
   "outputs": [
    {
     "name": "stdout",
     "output_type": "stream",
     "text": [
      "Collecting wget\n",
      "  Downloading wget-3.2.zip (10 kB)\n",
      "  Preparing metadata (setup.py) ... \u001b[?25ldone\n",
      "\u001b[?25hBuilding wheels for collected packages: wget\n",
      "  Building wheel for wget (setup.py) ... \u001b[?25ldone\n",
      "\u001b[?25h  Created wheel for wget: filename=wget-3.2-py3-none-any.whl size=9655 sha256=4029cf20f37910a89a6fe9d793b315fe3fdd5c2531252c2996aa3566461dc017\n",
      "  Stored in directory: /Users/layla/Library/Caches/pip/wheels/40/b3/0f/a40dbd1c6861731779f62cc4babcb234387e11d697df70ee97\n",
      "Successfully built wget\n",
      "Installing collected packages: wget\n",
      "Successfully installed wget-3.2\n",
      "Note: you may need to restart the kernel to use updated packages.\n"
     ]
    }
   ],
   "source": [
    "pip install wget"
   ]
  },
  {
   "cell_type": "code",
   "execution_count": null,
   "id": "6c725984-e0a3-49d0-ad4c-b577c9f78b75",
   "metadata": {},
   "outputs": [],
   "source": [
    "!python train.py --img-size 640 --cfg cfg/training/yolov7.yaml --hyp data/hyp.scratch.custom.yaml --batch 8 --epochs 100 --data data/DeepSpaceYoloDataset.yaml --weights yolov7.pt --workers 24 --name yolo_DeepSpace"
   ]
  }
 ],
 "metadata": {
  "kernelspec": {
   "display_name": "imageclassification",
   "language": "python",
   "name": "imageclassification"
  },
  "language_info": {
   "codemirror_mode": {
    "name": "ipython",
    "version": 3
   },
   "file_extension": ".py",
   "mimetype": "text/x-python",
   "name": "python",
   "nbconvert_exporter": "python",
   "pygments_lexer": "ipython3",
   "version": "3.11.4"
  }
 },
 "nbformat": 4,
 "nbformat_minor": 5
}
